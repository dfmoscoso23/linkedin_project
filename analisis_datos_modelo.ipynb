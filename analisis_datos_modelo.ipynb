{
 "cells": [
  {
   "cell_type": "markdown",
   "id": "5991594c-b153-4d46-9928-20dd150d6b2d",
   "metadata": {},
   "source": [
    "# DATA SCIENCE IN MADRID"
   ]
  },
  {
   "cell_type": "markdown",
   "id": "b4b2a7d2-bcdb-425e-a598-021be4717c3d",
   "metadata": {},
   "source": [
    "## HOW MUCH TIME A NEW DATA SCIENTIST HAVE TO WAIT TO FIND A DATA SCIENCE JOB?"
   ]
  },
  {
   "cell_type": "markdown",
   "id": "40227ab7-ba17-4995-a85e-d48356154823",
   "metadata": {},
   "source": [
    "### Preprocesing Data"
   ]
  },
  {
   "cell_type": "code",
   "execution_count": 1,
   "id": "bc22b928-2fca-4ebd-bf97-b58aedd56123",
   "metadata": {},
   "outputs": [],
   "source": [
    "import pandas as pd\n",
    "import re\n",
    "import numpy as np\n",
    "from datetime import datetime"
   ]
  },
  {
   "cell_type": "code",
   "execution_count": 2,
   "id": "42b80c9b-2159-4125-8bc3-3fad2ae1b3ca",
   "metadata": {},
   "outputs": [],
   "source": [
    "df_ed=pd.read_csv(\"perfil_educacion_new.txt\",delimiter=\";\",na_values=[\"nope\"],encoding=\"ANSI\",on_bad_lines='warn',names=[\"#\",\"n_perfil\",\"Institucion\",\"Titulo\",\"titulo_especifico\",\"Fechainicio\",\"Fecha_fin\",\"descripcion\"])"
   ]
  },
  {
   "cell_type": "code",
   "execution_count": 3,
   "id": "d5939998-a9a5-4c0d-afc5-c084cf35ab00",
   "metadata": {},
   "outputs": [
    {
     "data": {
      "text/html": [
       "<div>\n",
       "<style scoped>\n",
       "    .dataframe tbody tr th:only-of-type {\n",
       "        vertical-align: middle;\n",
       "    }\n",
       "\n",
       "    .dataframe tbody tr th {\n",
       "        vertical-align: top;\n",
       "    }\n",
       "\n",
       "    .dataframe thead th {\n",
       "        text-align: right;\n",
       "    }\n",
       "</style>\n",
       "<table border=\"1\" class=\"dataframe\">\n",
       "  <thead>\n",
       "    <tr style=\"text-align: right;\">\n",
       "      <th></th>\n",
       "      <th>#</th>\n",
       "      <th>n_perfil</th>\n",
       "      <th>Institucion</th>\n",
       "      <th>Titulo</th>\n",
       "      <th>titulo_especifico</th>\n",
       "      <th>Fechainicio</th>\n",
       "      <th>Fecha_fin</th>\n",
       "      <th>descripcion</th>\n",
       "    </tr>\n",
       "  </thead>\n",
       "  <tbody>\n",
       "    <tr>\n",
       "      <th>4199</th>\n",
       "      <td>3</td>\n",
       "      <td>1558.0</td>\n",
       "      <td>Polytech Nancy - ex ESSTIN</td>\n",
       "      <td>Year Abroad</td>\n",
       "      <td>Industrial Engineering</td>\n",
       "      <td>2017</td>\n",
       "      <td>2018</td>\n",
       "      <td>Nancy, France</td>\n",
       "    </tr>\n",
       "    <tr>\n",
       "      <th>4200</th>\n",
       "      <td>4</td>\n",
       "      <td>1558.0</td>\n",
       "      <td>Universidad Carlos III de Madrid</td>\n",
       "      <td>Bachelor's degree</td>\n",
       "      <td>Industrial Engineering</td>\n",
       "      <td>2014</td>\n",
       "      <td>2018</td>\n",
       "      <td>Grado en Ingeniería en Tecnologías Industriale...</td>\n",
       "    </tr>\n",
       "    <tr>\n",
       "      <th>4201</th>\n",
       "      <td>0</td>\n",
       "      <td>1559.0</td>\n",
       "      <td>Universitat Oberta de Catalunya</td>\n",
       "      <td>NaN</td>\n",
       "      <td>Master en Bioinformática y Bioestadística</td>\n",
       "      <td>2018</td>\n",
       "      <td>2020</td>\n",
       "      <td>NaN</td>\n",
       "    </tr>\n",
       "    <tr>\n",
       "      <th>4202</th>\n",
       "      <td>1</td>\n",
       "      <td>1559.0</td>\n",
       "      <td>U-tad</td>\n",
       "      <td>NaN</td>\n",
       "      <td>Master de Experto en Data Science</td>\n",
       "      <td>2015</td>\n",
       "      <td>2016</td>\n",
       "      <td>NaN</td>\n",
       "    </tr>\n",
       "    <tr>\n",
       "      <th>4203</th>\n",
       "      <td>2</td>\n",
       "      <td>1559.0</td>\n",
       "      <td>Universidad Politécnica de Madrid</td>\n",
       "      <td>Ingeniero Superior de Telecomunicaciones</td>\n",
       "      <td>Especialidad de Comunicaciones, intensificació...</td>\n",
       "      <td>2007</td>\n",
       "      <td>2014</td>\n",
       "      <td>NaN</td>\n",
       "    </tr>\n",
       "  </tbody>\n",
       "</table>\n",
       "</div>"
      ],
      "text/plain": [
       "      #  n_perfil                        Institucion  \\\n",
       "4199  3    1558.0         Polytech Nancy - ex ESSTIN   \n",
       "4200  4    1558.0   Universidad Carlos III de Madrid   \n",
       "4201  0    1559.0    Universitat Oberta de Catalunya   \n",
       "4202  1    1559.0                              U-tad   \n",
       "4203  2    1559.0  Universidad Politécnica de Madrid   \n",
       "\n",
       "                                        Titulo  \\\n",
       "4199                               Year Abroad   \n",
       "4200                         Bachelor's degree   \n",
       "4201                                       NaN   \n",
       "4202                                       NaN   \n",
       "4203  Ingeniero Superior de Telecomunicaciones   \n",
       "\n",
       "                                      titulo_especifico Fechainicio Fecha_fin  \\\n",
       "4199                             Industrial Engineering        2017      2018   \n",
       "4200                             Industrial Engineering        2014      2018   \n",
       "4201          Master en Bioinformática y Bioestadística        2018      2020   \n",
       "4202                  Master de Experto en Data Science        2015      2016   \n",
       "4203  Especialidad de Comunicaciones, intensificació...        2007      2014   \n",
       "\n",
       "                                            descripcion  \n",
       "4199                                      Nancy, France  \n",
       "4200  Grado en Ingeniería en Tecnologías Industriale...  \n",
       "4201                                                NaN  \n",
       "4202                                                NaN  \n",
       "4203                                                NaN  "
      ]
     },
     "execution_count": 3,
     "metadata": {},
     "output_type": "execute_result"
    }
   ],
   "source": [
    "df_ed.tail()"
   ]
  },
  {
   "cell_type": "code",
   "execution_count": 4,
   "id": "98777baf-c753-48a3-9c3d-c74f8dc95b9b",
   "metadata": {
    "tags": []
   },
   "outputs": [],
   "source": [
    "df_ed.dropna(subset=[\"titulo_especifico\"],axis=0,inplace=True)\n",
    "df_ed[\"clase\"]=df_ed[\"titulo_especifico\"].apply(lambda x: 1 if \"Data Science\" in x else(1 if \"Data Scientist\" in x else (2 if \"Dat\" in x else 0) ))\n",
    "perfiles_data=set(df_ed.groupby(\"n_perfil\").filter(lambda x: x['clase'].sum()>0)['n_perfil'].values)\n",
    "df_ed[\"perfil_data\"]=0\n",
    "for i in range(len(df_ed['n_perfil'])) :\n",
    "    if df_ed['n_perfil'].iloc[i] in perfiles_data:\n",
    "        df_ed[\"perfil_data\"].iat[i]=1\n",
    "df_ed.dropna(subset=[\"Fechainicio\",\"Fecha_fin\"],how='all',axis=0,inplace=True)\n",
    "df_ed[\"Fecha_fin\"].fillna(value=df_ed[\"Fechainicio\"],inplace=True)\n",
    "df_ed.drop(df_ed[df_ed.Institucion.isna()].index,axis=0, inplace=True)"
   ]
  },
  {
   "cell_type": "code",
   "execution_count": 5,
   "id": "38b700b5-6e75-4769-9f54-118ee0a075c7",
   "metadata": {},
   "outputs": [
    {
     "name": "stdout",
     "output_type": "stream",
     "text": [
      "<class 'pandas.core.frame.DataFrame'>\n",
      "Int64Index: 3515 entries, 0 to 4203\n",
      "Data columns (total 10 columns):\n",
      " #   Column             Non-Null Count  Dtype  \n",
      "---  ------             --------------  -----  \n",
      " 0   #                  3515 non-null   object \n",
      " 1   n_perfil           3515 non-null   float64\n",
      " 2   Institucion        3515 non-null   object \n",
      " 3   Titulo             2477 non-null   object \n",
      " 4   titulo_especifico  3515 non-null   object \n",
      " 5   Fechainicio        3515 non-null   object \n",
      " 6   Fecha_fin          3515 non-null   object \n",
      " 7   descripcion        1392 non-null   object \n",
      " 8   clase              3515 non-null   int64  \n",
      " 9   perfil_data        3515 non-null   int64  \n",
      "dtypes: float64(1), int64(2), object(7)\n",
      "memory usage: 431.1+ KB\n"
     ]
    }
   ],
   "source": [
    "df_ed.info()"
   ]
  },
  {
   "cell_type": "code",
   "execution_count": 6,
   "id": "7763f98c-6eee-4a9b-9521-cb1405974f5f",
   "metadata": {},
   "outputs": [
    {
     "name": "stderr",
     "output_type": "stream",
     "text": [
      "<ipython-input-6-cfe9df5fce4c>:3: SettingWithCopyWarning: \n",
      "A value is trying to be set on a copy of a slice from a DataFrame.\n",
      "Try using .loc[row_indexer,col_indexer] = value instead\n",
      "\n",
      "See the caveats in the documentation: https://pandas.pydata.org/pandas-docs/stable/user_guide/indexing.html#returning-a-view-versus-a-copy\n",
      "  df[\"clase\"]=df_exp[\"Cargo\"].apply(lambda x: 1 if \"Data Science\" in x else(1 if \"Data Scientist\" in x else (2 if \"Data\" in x else 0) ))\n",
      "<ipython-input-6-cfe9df5fce4c>:18: SettingWithCopyWarning: \n",
      "A value is trying to be set on a copy of a slice from a DataFrame.\n",
      "Try using .loc[row_indexer,col_indexer] = value instead\n",
      "\n",
      "See the caveats in the documentation: https://pandas.pydata.org/pandas-docs/stable/user_guide/indexing.html#returning-a-view-versus-a-copy\n",
      "  df[\"inicio\"]=\"S\"\n",
      "C:\\Users\\david\\anaconda3\\lib\\site-packages\\pandas\\core\\series.py:1169: SettingWithCopyWarning: \n",
      "A value is trying to be set on a copy of a slice from a DataFrame\n",
      "\n",
      "See the caveats in the documentation: https://pandas.pydata.org/pandas-docs/stable/user_guide/indexing.html#returning-a-view-versus-a-copy\n",
      "  self._set_values(loc, value)\n"
     ]
    }
   ],
   "source": [
    "df_exp=pd.read_csv(\"perfil_experiencia_new.txt\",delimiter=\";\",encoding='ANSI', on_bad_lines='warn',na_values=[\"nope\"],names=[\"#\",\"n_perfil\",\"Cargo\",\"Empresa\",\"Fechas\",\"descripcion\",\"jornada\"])\n",
    "df=df_exp[[\"n_perfil\"]]\n",
    "df[\"clase\"]=df_exp[\"Cargo\"].apply(lambda x: 1 if \"Data Science\" in x else(1 if \"Data Scientist\" in x else (2 if \"Data\" in x else 0) ))\n",
    "dic_meses={\n",
    "    \"abr\":\"04\",\n",
    "    \"dic\":\"12\",\n",
    "    \"nov\":\"11\",\n",
    "    \"feb\":\"02\",\n",
    "    \"ene\":\"01\",\n",
    "    \"mar\":\"03\",\n",
    "    \"oct\":\"10\",\n",
    "    \"ago\":\"08\",\n",
    "    \"may\":\"05\",\n",
    "    \"jul\":\"07\",\n",
    "    \"jun\":\"06\",\n",
    "    \"sept\":\"09\"\n",
    "}\n",
    "df[\"inicio\"]=\"S\"\n",
    "for i in range(len(df_exp[\"Fechas\"])):\n",
    "    fech=df_exp[\"Fechas\"].loc[i]\n",
    "    fecha=str(fech).split(\" – \")\n",
    "    try:\n",
    "        mes,año=str(fecha[0]).split(\" \")\n",
    "        mes=dic_meses[mes]\n",
    "        #print(mes)\n",
    "        df[\"inicio\"].at[i]=pd.to_datetime(mes+\" \"+año, format='%m %Y')\n",
    "    except:\n",
    "        df[\"inicio\"].at[i]=pd.to_datetime(fecha[0], format='%Y')"
   ]
  },
  {
   "cell_type": "code",
   "execution_count": 7,
   "id": "08aacc6e-1343-4738-bc5d-0cb45ab999e4",
   "metadata": {},
   "outputs": [],
   "source": [
    "def separador_titulos(df_ed,colum):\n",
    "    df3=pd.DataFrame(columns=[\"n_perfil\",\"titulo\",\"tema\"])\n",
    "    for i in range(len(df_ed)):\n",
    "        if bool(re.match(r'M[aásS][sc][ t]',df_ed[colum].iloc[i])):\n",
    "            #pass\n",
    "            #print(df_ed.titulo_especifico.iloc[i])\n",
    "            try:\n",
    "                tema=re.search(r'(en |in |of |Master )(.*)',df_ed[colum].iloc[i]).group(2)\n",
    "            except:\n",
    "                tema=\"Otros\"\n",
    "            dic={\n",
    "                \"n_perfil\":df_ed.n_perfil.iloc[i],\n",
    "                \"titulo\":\"Master\",\n",
    "                \"tema\":tema\n",
    "            }\n",
    "            df3=df3.append(dic,ignore_index=True)\n",
    "            #print(re.search(r'(en|in|of) (.*)',df_ed.titulo_especifico.iloc[i]).group(2))\n",
    "        elif bool(re.match(r'Ing|Eng',df_ed[colum].iloc[i])):\n",
    "            #pass\n",
    "    #         print(df_ed.titulo_especifico.iloc[i])\n",
    "            try:\n",
    "                tema=re.search(r'(en |de |Ingeniería |Ingeniero)(.*)',df_ed[colum].iloc[i]).group(2)\n",
    "            except:\n",
    "                tema=\"Otros\"\n",
    "            dic={\n",
    "                \"n_perfil\":df_ed.n_perfil.iloc[i],\n",
    "                \"titulo\":\"Ingeniería\",\n",
    "                \"tema\":tema\n",
    "            }\n",
    "            df3=df3.append(dic,ignore_index=True)\n",
    "        elif bool(re.match(r'Grad|Bach',df_ed[colum].iloc[i])):\n",
    "            #pass\n",
    "    #         print(df_ed.titulo_especifico.iloc[i])\n",
    "            try:\n",
    "                tema=re.search(r'(en |de |of |in | - )(.*)',df_ed[colum].iloc[i]).group(2)\n",
    "            except:\n",
    "                tema=\"Otros\"\n",
    "            dic={\n",
    "                \"n_perfil\":df_ed.n_perfil.iloc[i],\n",
    "                \"titulo\":\"Grado\",\n",
    "                \"tema\":tema\n",
    "            }\n",
    "            df3=df3.append(dic,ignore_index=True)\n",
    "        elif bool(re.match(r'Doc|Phd',df_ed[colum].iloc[i])):\n",
    "            #pass\n",
    "            #print(df_ed.titulo_especifico.iloc[i])\n",
    "            try:\n",
    "                tema=re.search(r'(en |de |of |in )(.*)',df_ed[colum].iloc[i]).group(2)\n",
    "            except:\n",
    "                tema=\"Otros\"\n",
    "            dic={\n",
    "                \"n_perfil\":df_ed.n_perfil.iloc[i],\n",
    "                \"titulo\":\"Doctorado\",\n",
    "                \"tema\":tema\n",
    "            }\n",
    "            df3=df3.append(dic,ignore_index=True)\n",
    "        elif bool(re.match(r'Téc',df_ed[colum].iloc[i])):\n",
    "            #pass\n",
    "            #print(df_ed.titulo_especifico.iloc[i])\n",
    "            try:\n",
    "                tema=re.search(r'(en |de |of |in )(.*)',df_ed[colum].iloc[i]).group(2)\n",
    "            except:\n",
    "                tema=\"Otros\"\n",
    "            dic={\n",
    "                \"n_perfil\":df_ed.n_perfil.iloc[i],\n",
    "                \"titulo\":\"Técnico\",\n",
    "                \"tema\":tema\n",
    "            }\n",
    "            df3=df3.append(dic,ignore_index=True)\n",
    "        elif bool(re.match(r'\\d',df_ed[colum].iloc[i])):\n",
    "            pass\n",
    "            #print(df_ed.iloc[i])\n",
    "            linea_numerica=pd.DataFrame(df_ed.iloc[i])\n",
    "            try:\n",
    "                df2=separador_titulos(linea_numerica.T,\"Titulo\")\n",
    "                df3=pd.concat([df3,df2],ignore_index=True)\n",
    "            except:\n",
    "                pass\n",
    "        elif bool(re.match(r'Boot',df_ed[colum].iloc[i])):\n",
    "            #pass\n",
    "            #print(df_ed.titulo_especifico.iloc[i])\n",
    "            try:\n",
    "                tema=re.search(r'(en |de |of |in |Bootcamp )(.*)',df_ed[colum].iloc[i]).group(2)\n",
    "            except:\n",
    "                tema=\"Otros\"\n",
    "            dic={\n",
    "                \"n_perfil\":df_ed.n_perfil.iloc[i],\n",
    "                \"titulo\":\"Bootcamp\",\n",
    "                \"tema\":tema\n",
    "            }\n",
    "            df3=df3.append(dic,ignore_index=True)\n",
    "        else:\n",
    "            #pass\n",
    "            #print(\">\",df_ed[colum].iloc[i])\n",
    "            #print(df_ed.Titulo.iloc[i])\n",
    "            try:\n",
    "                if bool(re.match(r'M[aásS][sc][ t]',df_ed.Titulo.iloc[i])):\n",
    "                    titulo=\"Master\"\n",
    "                elif bool(re.match(r'Ing|Eng',df_ed.Titulo.iloc[i])):\n",
    "                    titulo=\"Ingeniería\"\n",
    "                elif bool(re.match(r'Grad|Bach',df_ed.Titulo.iloc[i])):\n",
    "                    titulo=\"Grado\"\n",
    "                elif bool(re.match(r'Doc|Phd',df_ed.Titulo.iloc[i])):\n",
    "                    titulo=\"Doctorado\"\n",
    "                elif bool(re.match(r'Téc',df_ed.Titulo.iloc[i])):\n",
    "                    titulo=\"Técnico\"\n",
    "                elif bool(re.match(r'Boot',df_ed.Titulo.iloc[i])):\n",
    "                    titulo=\"Bootcamp\"\n",
    "            except:\n",
    "                titulo=\"Otros\"\n",
    "            dic={\n",
    "                \"n_perfil\":df_ed.n_perfil.iloc[i],\n",
    "                \"titulo\":titulo,\n",
    "                \"tema\":df_ed[colum].iloc[i]\n",
    "            }\n",
    "            df3=df3.append(dic,ignore_index=True)\n",
    "    return df3"
   ]
  },
  {
   "cell_type": "code",
   "execution_count": 8,
   "id": "7789a31a-4b43-433d-b150-39621d812082",
   "metadata": {},
   "outputs": [],
   "source": [
    "df_titulo=separador_titulos(df_ed,\"titulo_especifico\")"
   ]
  },
  {
   "cell_type": "markdown",
   "id": "b61d5d81-3d05-4037-ae1c-072d3407402a",
   "metadata": {},
   "source": [
    "### Exploratory Data Analysis"
   ]
  },
  {
   "cell_type": "code",
   "execution_count": 9,
   "id": "48ee9ce2-4075-4771-8377-b34638a75568",
   "metadata": {},
   "outputs": [],
   "source": [
    "import matplotlib.pyplot as plt\n",
    "import seaborn as sns\n",
    "import re"
   ]
  },
  {
   "cell_type": "markdown",
   "id": "272a269a-9c9a-4938-afbe-33b028325e2c",
   "metadata": {},
   "source": [
    "### Instituciones"
   ]
  },
  {
   "cell_type": "code",
   "execution_count": 10,
   "id": "2734a468-7c45-4f81-9266-7d825f1e0b86",
   "metadata": {},
   "outputs": [],
   "source": [
    "top_inst=df_ed.groupby('Institucion').filter(lambda x: len(x) > 15)['Institucion']"
   ]
  },
  {
   "cell_type": "code",
   "execution_count": 11,
   "id": "7d2e8fca-c080-4e36-bdc4-b1407f20b4a0",
   "metadata": {},
   "outputs": [
    {
     "name": "stderr",
     "output_type": "stream",
     "text": [
      "C:\\Users\\david\\anaconda3\\lib\\site-packages\\seaborn\\_decorators.py:36: FutureWarning: Pass the following variable as a keyword arg: x. From version 0.12, the only valid positional argument will be `data`, and passing other arguments without an explicit keyword will result in an error or misinterpretation.\n",
      "  warnings.warn(\n"
     ]
    },
    {
     "data": {
      "image/png": "[encoded data removed]",
      "text/plain": [
       "<Figure size 576x504 with 1 Axes>"
      ]
     },
     "metadata": {
      "needs_background": "light"
     },
     "output_type": "display_data"
    }
   ],
   "source": [
    "plt.figure(figsize=(8,7))\n",
    "ax = sns.countplot(top_inst)\n",
    "\n",
    "ax.set_xticklabels(ax.get_xticklabels(), rotation=40, ha=\"right\")\n",
    "plt.tight_layout()\n",
    "plt.savefig(f'C:\\\\Users\\\\david\\\\Documents\\\\eddie_portfolio\\\\hugo-resume\\\\static\\\\img\\\\gra_instituciones.png')\n",
    "plt.show()"
   ]
  },
  {
   "cell_type": "markdown",
   "id": "e4eaff42-7016-4b6c-8852-8e03bb3f2b25",
   "metadata": {},
   "source": [
    "#### Estudio"
   ]
  },
  {
   "cell_type": "code",
   "execution_count": 12,
   "id": "feb5eee5-12b6-4d98-ba6a-510f8e7fe6ff",
   "metadata": {},
   "outputs": [],
   "source": [
    "top_titu_esp=df_titulo.groupby('tema').filter(lambda x: len(x) > 15)['tema']"
   ]
  },
  {
   "cell_type": "code",
   "execution_count": 13,
   "id": "cd979faa-9606-4fd6-b4e3-e769c17c7c56",
   "metadata": {},
   "outputs": [
    {
     "name": "stderr",
     "output_type": "stream",
     "text": [
      "C:\\Users\\david\\anaconda3\\lib\\site-packages\\seaborn\\_decorators.py:36: FutureWarning: Pass the following variable as a keyword arg: x. From version 0.12, the only valid positional argument will be `data`, and passing other arguments without an explicit keyword will result in an error or misinterpretation.\n",
      "  warnings.warn(\n"
     ]
    },
    {
     "data": {
      "image/png": "[encoded data removed]",
      "text/plain": [
       "<Figure size 576x504 with 1 Axes>"
      ]
     },
     "metadata": {
      "needs_background": "light"
     },
     "output_type": "display_data"
    }
   ],
   "source": [
    "plt.figure(figsize=(8,7))\n",
    "ax = sns.countplot(top_titu_esp)\n",
    "\n",
    "ax.set_xticklabels(ax.get_xticklabels(), rotation=40, ha=\"right\")\n",
    "plt.tight_layout()\n",
    "plt.savefig(f'C:\\\\Users\\\\david\\\\Documents\\\\eddie_portfolio\\\\hugo-resume\\\\static\\\\img\\\\gra_estudios.png')\n",
    "plt.show()"
   ]
  },
  {
   "cell_type": "code",
   "execution_count": 14,
   "id": "76b08292-a032-4178-a9e2-71a3181bdb91",
   "metadata": {},
   "outputs": [],
   "source": [
    "top_titu=df_titulo.groupby('titulo').filter(lambda x: len(x) > 1)['titulo']"
   ]
  },
  {
   "cell_type": "code",
   "execution_count": 15,
   "id": "4ba849f7-9622-43c3-a546-c720dba44ac6",
   "metadata": {},
   "outputs": [
    {
     "name": "stderr",
     "output_type": "stream",
     "text": [
      "C:\\Users\\david\\anaconda3\\lib\\site-packages\\seaborn\\_decorators.py:36: FutureWarning: Pass the following variable as a keyword arg: x. From version 0.12, the only valid positional argument will be `data`, and passing other arguments without an explicit keyword will result in an error or misinterpretation.\n",
      "  warnings.warn(\n"
     ]
    },
    {
     "data": {
      "image/png": "[encoded data removed]",
      "text/plain": [
       "<Figure size 576x504 with 1 Axes>"
      ]
     },
     "metadata": {
      "needs_background": "light"
     },
     "output_type": "display_data"
    }
   ],
   "source": [
    "plt.figure(figsize=(8,7))\n",
    "ax = sns.countplot(top_titu)\n",
    "\n",
    "ax.set_xticklabels(ax.get_xticklabels(), rotation=40, ha=\"right\")\n",
    "plt.tight_layout()\n",
    "plt.savefig(f'C:\\\\Users\\\\david\\\\Documents\\\\eddie_portfolio\\\\hugo-resume\\\\static\\\\img\\\\gra_degrees.png')\n",
    "plt.show()"
   ]
  },
  {
   "cell_type": "markdown",
   "id": "8ccb3def-b75b-4a3b-b361-88297fc35bff",
   "metadata": {},
   "source": [
    "## Cantidad de títulos por persona "
   ]
  },
  {
   "cell_type": "code",
   "execution_count": 16,
   "id": "a7883d7d-e166-46cd-809a-b3cca80bf869",
   "metadata": {},
   "outputs": [],
   "source": [
    "cant_est_persona =df_titulo.groupby('n_perfil').count()"
   ]
  },
  {
   "cell_type": "code",
   "execution_count": 17,
   "id": "cc443131-6199-48cd-9c5d-86c7151a9ae5",
   "metadata": {},
   "outputs": [
    {
     "name": "stderr",
     "output_type": "stream",
     "text": [
      "C:\\Users\\david\\anaconda3\\lib\\site-packages\\seaborn\\_decorators.py:36: FutureWarning: Pass the following variable as a keyword arg: x. From version 0.12, the only valid positional argument will be `data`, and passing other arguments without an explicit keyword will result in an error or misinterpretation.\n",
      "  warnings.warn(\n"
     ]
    },
    {
     "data": {
      "image/png": "[encoded data removed]",
      "text/plain": [
       "<Figure size 576x504 with 1 Axes>"
      ]
     },
     "metadata": {
      "needs_background": "light"
     },
     "output_type": "display_data"
    }
   ],
   "source": [
    "plt.figure(figsize=(8,7))\n",
    "ax = sns.countplot(cant_est_persona[\"titulo\"])\n",
    "\n",
    "ax.set_xticklabels(ax.get_xticklabels(), rotation=40, ha=\"right\")\n",
    "plt.tight_layout()\n",
    "plt.savefig(f'C:\\\\Users\\\\david\\\\Documents\\\\eddie_portfolio\\\\hugo-resume\\\\static\\\\img\\\\gra_titulos.png')\n",
    "plt.show()"
   ]
  },
  {
   "cell_type": "markdown",
   "id": "15c103bb-05dd-44b7-b959-6c0160cc6022",
   "metadata": {},
   "source": [
    "## Cantidad de títulos relacionados con Data"
   ]
  },
  {
   "cell_type": "code",
   "execution_count": 18,
   "id": "92833799-9a87-4414-bdb6-5de0b94afff5",
   "metadata": {},
   "outputs": [
    {
     "name": "stderr",
     "output_type": "stream",
     "text": [
      "C:\\Users\\david\\anaconda3\\lib\\site-packages\\seaborn\\_decorators.py:36: FutureWarning: Pass the following variable as a keyword arg: x. From version 0.12, the only valid positional argument will be `data`, and passing other arguments without an explicit keyword will result in an error or misinterpretation.\n",
      "  warnings.warn(\n"
     ]
    },
    {
     "data": {
      "image/png": "[encoded data removed]",
      "text/plain": [
       "<Figure size 576x504 with 1 Axes>"
      ]
     },
     "metadata": {
      "needs_background": "light"
     },
     "output_type": "display_data"
    }
   ],
   "source": [
    "plt.figure(figsize=(8,7))\n",
    "ax = sns.countplot(df_ed[df_ed['clase']>0].groupby(\"n_perfil\")['clase'].count())\n",
    "\n",
    "ax.set_xticklabels(ax.get_xticklabels(), rotation=40, ha=\"right\")\n",
    "plt.tight_layout()\n",
    "plt.savefig(f'C:\\\\Users\\\\david\\\\Documents\\\\eddie_portfolio\\\\hugo-resume\\\\static\\\\img\\\\gra_titulosdata.png')\n",
    "plt.show()"
   ]
  },
  {
   "cell_type": "markdown",
   "id": "9314260a-0bed-495b-953d-2fba3fb02434",
   "metadata": {},
   "source": [
    "## Cantidad de títulos por persona no relacionados con Data"
   ]
  },
  {
   "cell_type": "code",
   "execution_count": 19,
   "id": "a8cf3dc3-9f85-4c00-a0db-33f18d2f3d4c",
   "metadata": {},
   "outputs": [
    {
     "name": "stderr",
     "output_type": "stream",
     "text": [
      "C:\\Users\\david\\anaconda3\\lib\\site-packages\\seaborn\\_decorators.py:36: FutureWarning: Pass the following variable as a keyword arg: x. From version 0.12, the only valid positional argument will be `data`, and passing other arguments without an explicit keyword will result in an error or misinterpretation.\n",
      "  warnings.warn(\n"
     ]
    },
    {
     "data": {
      "image/png": "[encoded data removed]",
      "text/plain": [
       "<Figure size 576x504 with 1 Axes>"
      ]
     },
     "metadata": {
      "needs_background": "light"
     },
     "output_type": "display_data"
    }
   ],
   "source": [
    "plt.figure(figsize=(8,7))\n",
    "ax = sns.countplot(df_ed[df_ed['clase']==0].groupby(\"n_perfil\")['clase'].count())\n",
    "\n",
    "ax.set_xticklabels(ax.get_xticklabels(), rotation=40, ha=\"right\")\n",
    "plt.tight_layout()\n",
    "plt.savefig(f'C:\\\\Users\\\\david\\\\Documents\\\\eddie_portfolio\\\\hugo-resume\\\\static\\\\img\\\\gra_titulos_cant.png')\n",
    "plt.show()"
   ]
  },
  {
   "cell_type": "markdown",
   "id": "3475187a-9d22-49f5-8f7c-83dfe8ee82f5",
   "metadata": {},
   "source": [
    "## Cantidad de títulos por tipo"
   ]
  },
  {
   "cell_type": "code",
   "execution_count": 20,
   "id": "524a3e37-a9a1-42bf-9d66-0b27655be07b",
   "metadata": {},
   "outputs": [
    {
     "data": {
      "image/png": "[encoded data removed]",
      "text/plain": [
       "<Figure size 576x504 with 1 Axes>"
      ]
     },
     "metadata": {
      "needs_background": "light"
     },
     "output_type": "display_data"
    }
   ],
   "source": [
    "\n",
    "plt.figure(figsize=(8,7))\n",
    "ax = sns.countplot(x=\"clase\", data=df_ed)\n",
    "\n",
    "ax.set_xticklabels(ax.get_xticklabels(), rotation=40, ha=\"right\")\n",
    "plt.tight_layout()\n",
    "plt.savefig(f'C:\\\\Users\\\\david\\\\Documents\\\\eddie_portfolio\\\\hugo-resume\\\\static\\\\img\\\\gra_tit_clase.png')\n",
    "plt.show()"
   ]
  },
  {
   "cell_type": "code",
   "execution_count": null,
   "id": "2dbe0607-6fed-4515-952f-df5ba34ef8e1",
   "metadata": {},
   "outputs": [],
   "source": []
  },
  {
   "cell_type": "markdown",
   "id": "45bd0a2f-7fb1-44c7-99d7-8f39f9ea9de6",
   "metadata": {},
   "source": [
    "### Creating Working Data Frame"
   ]
  },
  {
   "cell_type": "code",
   "execution_count": 21,
   "id": "d9e8cc84-b8ea-4db0-8706-45547865cfbd",
   "metadata": {},
   "outputs": [],
   "source": [
    "df_tra=pd.DataFrame()"
   ]
  },
  {
   "cell_type": "code",
   "execution_count": null,
   "id": "28be4447-6a84-4304-95ca-e8c05eca3ec0",
   "metadata": {},
   "outputs": [],
   "source": []
  },
  {
   "cell_type": "code",
   "execution_count": 22,
   "id": "942b29b4-6d77-4860-bed3-be44dbd409f6",
   "metadata": {},
   "outputs": [],
   "source": [
    "df_tra[\"n_perfil\"]=list(df_ed[\"n_perfil\"].unique())"
   ]
  },
  {
   "cell_type": "code",
   "execution_count": 23,
   "id": "8815bf93-bdad-4ee9-beba-e4cd40095911",
   "metadata": {},
   "outputs": [],
   "source": [
    "df_tra[\"perfil_data\"]=0\n",
    "for ip in range(len(df_tra[\"n_perfil\"])):\n",
    "    df_tra[\"perfil_data\"].iat[ip]=df_ed[df_ed[\"n_perfil\"]==df_tra[\"n_perfil\"].iloc[ip]][\"perfil_data\"].max()"
   ]
  },
  {
   "cell_type": "code",
   "execution_count": 24,
   "id": "73388140-f594-4fbd-8396-a4d1830f7d01",
   "metadata": {},
   "outputs": [],
   "source": [
    "cantidad_titulos=df_ed.groupby(\"n_perfil\")['clase'].count()\n",
    "df_tra[\"cantidad_titulos\"]=0\n",
    "for ip in range(len(df_tra[\"n_perfil\"])):\n",
    "    df_tra[\"cantidad_titulos\"].iat[ip]=cantidad_titulos.loc[df_tra[\"n_perfil\"].iloc[ip]]"
   ]
  },
  {
   "cell_type": "code",
   "execution_count": 25,
   "id": "f1f32826-1635-4e8f-824f-c82746c30bd9",
   "metadata": {},
   "outputs": [],
   "source": [
    "cantidad_titulos_data=df_ed[df_ed['clase']>0].groupby(\"n_perfil\")['clase'].count()\n",
    "df_tra[\"cantidad_titulos_data\"]=0\n",
    "for ip in range(len(df_tra[\"n_perfil\"])):\n",
    "    try:\n",
    "        df_tra[\"cantidad_titulos_data\"].iat[ip]=cantidad_titulos_data.loc[df_tra[\"n_perfil\"].iloc[ip]]\n",
    "    except:\n",
    "        df_tra[\"cantidad_titulos_data\"].iat[ip]=0"
   ]
  },
  {
   "cell_type": "code",
   "execution_count": 26,
   "id": "d40d8f24-8533-4932-9ccf-13232b51fa13",
   "metadata": {},
   "outputs": [],
   "source": [
    "g_titulos=df_titulo.groupby(\"n_perfil\")[\"titulo\"]\n",
    "df_tra[\"Grado\"]=0\n",
    "df_tra[\"Posgrado\"]=0\n",
    "df_tra[\"Bootcamp\"]=0\n",
    "df_tra[\"Masters\"]=0\n",
    "df_tra[\"Ingenieria\"]=0\n",
    "for g in g_titulos:\n",
    "    gi,gt=g\n",
    "    ni=df_tra[df_tra[\"n_perfil\"]==gi].index[0]\n",
    "    if 'Bootcamp' in list(gt):\n",
    "        df_tra[\"Bootcamp\"].iat[ni]=1\n",
    "    if \"Grado\" in list(gt):\n",
    "        df_tra[\"Grado\"].iat[ni]=1\n",
    "    if \"Ingeniería\" in list(gt):\n",
    "        df_tra[\"Ingenieria\"].iat[ni]=1\n",
    "    if \"Master\" or \"Doctorado\" in list(gt):\n",
    "        df_tra[\"Posgrado\"].iat[ni]=1\n",
    "    if  \"Master\" in list(gt):\n",
    "        nm=list(gt).count(\"Master\")\n",
    "        df_tra[\"Masters\"].iat[ni]=nm\n",
    "    "
   ]
  },
  {
   "cell_type": "code",
   "execution_count": 27,
   "id": "a140e9bb-46e1-4fb5-afd0-9f1f45a3606a",
   "metadata": {},
   "outputs": [],
   "source": [
    "g_temas=df_titulo.groupby(\"n_perfil\")[\"tema\"]\n",
    "df_tra[\"Técnicos\"]=0\n",
    "df_tra[\"Matemáticas\"]=0\n",
    "df_tra[\"Humanidades\"]=0\n",
    "df_tra[\"Economia\"]=0\n",
    "df_tra[\"Marketing\"]=0\n",
    "df_tra[\"Naturales\"]=0\n",
    "df_tra[\"temas\"]=\"Otro\"\n",
    "for g in g_temas:\n",
    "    gi,gt=g\n",
    "    ni=df_tra[df_tra[\"n_perfil\"]==gi].index[0]\n",
    "    if re.search(r'Antro|Psi|Fil|Soci|fil|antr|Phil|Dere|Abo',str(g[1])):\n",
    "        df_tra[\"Humanidades\"].iat[ni]=1\n",
    "        df_tra[\"temas\"].iat[ni]=\"Humanidades\"\n",
    "    if re.search(r'fís|phy|Fís|Phy|Astr|Ingen|Eng|Civ|ingen|mecá|Topo|Infor|infor|Full|Elec|Comp|full|elec|comp|Geof|geof|Quí|quí|chem|Chem|Ener|Indus',str(g[1])):\n",
    "        df_tra[\"Técnicos\"].iat[ni]=1\n",
    "        df_tra[\"temas\"].iat[ni]=\"Técnicos\"\n",
    "    if re.search(r'Econ|econ|admin|Busin|BA|Conta|Admin|Finan',str(g[1])):\n",
    "        df_tra[\"Economia\"].iat[ni]=1\n",
    "        df_tra[\"temas\"].iat[ni]=\"Economia\"\n",
    "    if re.search(r'Mark|Publi',str(g[1])):\n",
    "        df_tra[\"Marketing\"].iat[ni]=1\n",
    "        df_tra[\"temas\"].iat[ni]=\"Marketing\"\n",
    "    if re.search(r'Mat|esta|Estad|mat|Statis',str(g[1])):\n",
    "        df_tra[\"Matemáticas\"].iat[ni]=1\n",
    "        df_tra[\"temas\"].iat[ni]=\"Matemáticas\"\n",
    "    if re.search(r'Bio|bio|Nat|nat|Marin',str(g[1])):\n",
    "        df_tra[\"Naturales\"].iat[ni]=1\n",
    "        df_tra[\"temas\"].iat[ni]=\"Naturales\""
   ]
  },
  {
   "cell_type": "code",
   "execution_count": 28,
   "id": "854ba406-8702-4fb9-8cb7-5d292c1ac61d",
   "metadata": {},
   "outputs": [],
   "source": [
    "fin_primer_estudio=df_ed[df_ed['clase']>0].groupby(\"n_perfil\")['Fecha_fin'].min()\n",
    "df_tra[\"fin_1_estu\"]=0\n",
    "for ip in range(len(df_tra[\"n_perfil\"])):\n",
    "    try:\n",
    "        df_tra[\"fin_1_estu\"].iat[ip]=fin_primer_estudio.loc[df_tra[\"n_perfil\"].iloc[ip]]\n",
    "    except:\n",
    "        pass"
   ]
  },
  {
   "cell_type": "code",
   "execution_count": 29,
   "id": "e7ea9030-42a3-4960-9557-5681b0867d97",
   "metadata": {},
   "outputs": [],
   "source": [
    "inicio_primer_trabajo=df[df['clase']>0].groupby(\"n_perfil\")['inicio'].min()\n",
    "df_tra[\"inicio_trabajo\"]=0\n",
    "for ip in range(len(df_tra[\"n_perfil\"])):\n",
    "    try:\n",
    "        df_tra[\"inicio_trabajo\"].iat[ip]=inicio_primer_trabajo.loc[df_tra[\"n_perfil\"].iloc[ip]]\n",
    "    except:\n",
    "        pass"
   ]
  },
  {
   "cell_type": "code",
   "execution_count": 30,
   "id": "4a80ba19-0dd4-449c-a84f-16ebec8c62e9",
   "metadata": {},
   "outputs": [],
   "source": [
    "df_tra[\"calculo_dias\"]=0\n",
    "df_tra[\"tiempo_busqueda\"]=\"igual\"\n",
    "for p in range(len(df_tra)):\n",
    "    try:\n",
    "        ini=df_tra[\"inicio_trabajo\"].iloc[p]\n",
    "        if ini == 0:\n",
    "            ini=datetime.now()\n",
    "        fin=datetime.strptime(str(df_tra[\"fin_1_estu\"].iloc[p]), \"%Y\")\n",
    "    except:\n",
    "        ini=0\n",
    "        fin=0\n",
    "    try:\n",
    "        df_tra[\"calculo_dias\"].iat[p]=(fin-ini).days\n",
    "    except:\n",
    "        df_tra[\"calculo_dias\"].iat[p]=int(fin-ini)\n",
    "    try:\n",
    "        dias=int((fin-ini).days)\n",
    "    except:\n",
    "        dias=int(fin-ini)\n",
    "    if dias<0: \n",
    "        df_tra[\"tiempo_busqueda\"].iat[p]=\"buscó\"\n",
    "    elif dias>0:\n",
    "        df_tra[\"tiempo_busqueda\"].iat[p]=\"previo\""
   ]
  },
  {
   "cell_type": "code",
   "execution_count": 31,
   "id": "671c2473-64f8-49b7-813a-6fdd7ff1315d",
   "metadata": {},
   "outputs": [
    {
     "data": {
      "text/html": [
       "<div>\n",
       "<style scoped>\n",
       "    .dataframe tbody tr th:only-of-type {\n",
       "        vertical-align: middle;\n",
       "    }\n",
       "\n",
       "    .dataframe tbody tr th {\n",
       "        vertical-align: top;\n",
       "    }\n",
       "\n",
       "    .dataframe thead th {\n",
       "        text-align: right;\n",
       "    }\n",
       "</style>\n",
       "<table border=\"1\" class=\"dataframe\">\n",
       "  <thead>\n",
       "    <tr style=\"text-align: right;\">\n",
       "      <th></th>\n",
       "      <th>n_perfil</th>\n",
       "      <th>perfil_data</th>\n",
       "      <th>cantidad_titulos</th>\n",
       "      <th>cantidad_titulos_data</th>\n",
       "      <th>Grado</th>\n",
       "      <th>Posgrado</th>\n",
       "      <th>Bootcamp</th>\n",
       "      <th>Masters</th>\n",
       "      <th>Ingenieria</th>\n",
       "      <th>Técnicos</th>\n",
       "      <th>Matemáticas</th>\n",
       "      <th>Humanidades</th>\n",
       "      <th>Economia</th>\n",
       "      <th>Marketing</th>\n",
       "      <th>Naturales</th>\n",
       "      <th>calculo_dias</th>\n",
       "    </tr>\n",
       "  </thead>\n",
       "  <tbody>\n",
       "    <tr>\n",
       "      <th>count</th>\n",
       "      <td>522.000000</td>\n",
       "      <td>522.0</td>\n",
       "      <td>522.000000</td>\n",
       "      <td>522.000000</td>\n",
       "      <td>522.000000</td>\n",
       "      <td>522.0</td>\n",
       "      <td>522.000000</td>\n",
       "      <td>522.000000</td>\n",
       "      <td>522.000000</td>\n",
       "      <td>522.000000</td>\n",
       "      <td>522.000000</td>\n",
       "      <td>522.000000</td>\n",
       "      <td>522.000000</td>\n",
       "      <td>522.000000</td>\n",
       "      <td>522.000000</td>\n",
       "      <td>522.000000</td>\n",
       "    </tr>\n",
       "    <tr>\n",
       "      <th>mean</th>\n",
       "      <td>840.446360</td>\n",
       "      <td>1.0</td>\n",
       "      <td>3.463602</td>\n",
       "      <td>1.203065</td>\n",
       "      <td>0.590038</td>\n",
       "      <td>1.0</td>\n",
       "      <td>0.019157</td>\n",
       "      <td>1.411877</td>\n",
       "      <td>0.191571</td>\n",
       "      <td>0.524904</td>\n",
       "      <td>0.321839</td>\n",
       "      <td>0.040230</td>\n",
       "      <td>0.354406</td>\n",
       "      <td>0.044061</td>\n",
       "      <td>0.067050</td>\n",
       "      <td>-84.840996</td>\n",
       "    </tr>\n",
       "    <tr>\n",
       "      <th>std</th>\n",
       "      <td>450.574108</td>\n",
       "      <td>0.0</td>\n",
       "      <td>1.504828</td>\n",
       "      <td>0.468745</td>\n",
       "      <td>0.492298</td>\n",
       "      <td>0.0</td>\n",
       "      <td>0.137208</td>\n",
       "      <td>1.091273</td>\n",
       "      <td>0.393915</td>\n",
       "      <td>0.499858</td>\n",
       "      <td>0.467630</td>\n",
       "      <td>0.196686</td>\n",
       "      <td>0.478792</td>\n",
       "      <td>0.205428</td>\n",
       "      <td>0.250348</td>\n",
       "      <td>732.933089</td>\n",
       "    </tr>\n",
       "    <tr>\n",
       "      <th>min</th>\n",
       "      <td>0.000000</td>\n",
       "      <td>1.0</td>\n",
       "      <td>1.000000</td>\n",
       "      <td>0.000000</td>\n",
       "      <td>0.000000</td>\n",
       "      <td>1.0</td>\n",
       "      <td>0.000000</td>\n",
       "      <td>0.000000</td>\n",
       "      <td>0.000000</td>\n",
       "      <td>0.000000</td>\n",
       "      <td>0.000000</td>\n",
       "      <td>0.000000</td>\n",
       "      <td>0.000000</td>\n",
       "      <td>0.000000</td>\n",
       "      <td>0.000000</td>\n",
       "      <td>-5125.000000</td>\n",
       "    </tr>\n",
       "    <tr>\n",
       "      <th>25%</th>\n",
       "      <td>411.250000</td>\n",
       "      <td>1.0</td>\n",
       "      <td>2.000000</td>\n",
       "      <td>1.000000</td>\n",
       "      <td>0.000000</td>\n",
       "      <td>1.0</td>\n",
       "      <td>0.000000</td>\n",
       "      <td>1.000000</td>\n",
       "      <td>0.000000</td>\n",
       "      <td>0.000000</td>\n",
       "      <td>0.000000</td>\n",
       "      <td>0.000000</td>\n",
       "      <td>0.000000</td>\n",
       "      <td>0.000000</td>\n",
       "      <td>0.000000</td>\n",
       "      <td>-365.000000</td>\n",
       "    </tr>\n",
       "    <tr>\n",
       "      <th>50%</th>\n",
       "      <td>876.500000</td>\n",
       "      <td>1.0</td>\n",
       "      <td>3.000000</td>\n",
       "      <td>1.000000</td>\n",
       "      <td>1.000000</td>\n",
       "      <td>1.0</td>\n",
       "      <td>0.000000</td>\n",
       "      <td>1.000000</td>\n",
       "      <td>0.000000</td>\n",
       "      <td>1.000000</td>\n",
       "      <td>0.000000</td>\n",
       "      <td>0.000000</td>\n",
       "      <td>0.000000</td>\n",
       "      <td>0.000000</td>\n",
       "      <td>0.000000</td>\n",
       "      <td>-120.000000</td>\n",
       "    </tr>\n",
       "    <tr>\n",
       "      <th>75%</th>\n",
       "      <td>1235.250000</td>\n",
       "      <td>1.0</td>\n",
       "      <td>4.000000</td>\n",
       "      <td>1.000000</td>\n",
       "      <td>1.000000</td>\n",
       "      <td>1.0</td>\n",
       "      <td>0.000000</td>\n",
       "      <td>2.000000</td>\n",
       "      <td>0.000000</td>\n",
       "      <td>1.000000</td>\n",
       "      <td>1.000000</td>\n",
       "      <td>0.000000</td>\n",
       "      <td>1.000000</td>\n",
       "      <td>0.000000</td>\n",
       "      <td>0.000000</td>\n",
       "      <td>214.000000</td>\n",
       "    </tr>\n",
       "    <tr>\n",
       "      <th>max</th>\n",
       "      <td>1559.000000</td>\n",
       "      <td>1.0</td>\n",
       "      <td>8.000000</td>\n",
       "      <td>4.000000</td>\n",
       "      <td>1.000000</td>\n",
       "      <td>1.0</td>\n",
       "      <td>1.000000</td>\n",
       "      <td>8.000000</td>\n",
       "      <td>1.000000</td>\n",
       "      <td>1.000000</td>\n",
       "      <td>1.000000</td>\n",
       "      <td>1.000000</td>\n",
       "      <td>1.000000</td>\n",
       "      <td>1.000000</td>\n",
       "      <td>1.000000</td>\n",
       "      <td>4352.000000</td>\n",
       "    </tr>\n",
       "  </tbody>\n",
       "</table>\n",
       "</div>"
      ],
      "text/plain": [
       "          n_perfil  perfil_data  cantidad_titulos  cantidad_titulos_data  \\\n",
       "count   522.000000        522.0        522.000000             522.000000   \n",
       "mean    840.446360          1.0          3.463602               1.203065   \n",
       "std     450.574108          0.0          1.504828               0.468745   \n",
       "min       0.000000          1.0          1.000000               0.000000   \n",
       "25%     411.250000          1.0          2.000000               1.000000   \n",
       "50%     876.500000          1.0          3.000000               1.000000   \n",
       "75%    1235.250000          1.0          4.000000               1.000000   \n",
       "max    1559.000000          1.0          8.000000               4.000000   \n",
       "\n",
       "            Grado  Posgrado    Bootcamp     Masters  Ingenieria    Técnicos  \\\n",
       "count  522.000000     522.0  522.000000  522.000000  522.000000  522.000000   \n",
       "mean     0.590038       1.0    0.019157    1.411877    0.191571    0.524904   \n",
       "std      0.492298       0.0    0.137208    1.091273    0.393915    0.499858   \n",
       "min      0.000000       1.0    0.000000    0.000000    0.000000    0.000000   \n",
       "25%      0.000000       1.0    0.000000    1.000000    0.000000    0.000000   \n",
       "50%      1.000000       1.0    0.000000    1.000000    0.000000    1.000000   \n",
       "75%      1.000000       1.0    0.000000    2.000000    0.000000    1.000000   \n",
       "max      1.000000       1.0    1.000000    8.000000    1.000000    1.000000   \n",
       "\n",
       "       Matemáticas  Humanidades    Economia   Marketing   Naturales  \\\n",
       "count   522.000000   522.000000  522.000000  522.000000  522.000000   \n",
       "mean      0.321839     0.040230    0.354406    0.044061    0.067050   \n",
       "std       0.467630     0.196686    0.478792    0.205428    0.250348   \n",
       "min       0.000000     0.000000    0.000000    0.000000    0.000000   \n",
       "25%       0.000000     0.000000    0.000000    0.000000    0.000000   \n",
       "50%       0.000000     0.000000    0.000000    0.000000    0.000000   \n",
       "75%       1.000000     0.000000    1.000000    0.000000    0.000000   \n",
       "max       1.000000     1.000000    1.000000    1.000000    1.000000   \n",
       "\n",
       "       calculo_dias  \n",
       "count    522.000000  \n",
       "mean     -84.840996  \n",
       "std      732.933089  \n",
       "min    -5125.000000  \n",
       "25%     -365.000000  \n",
       "50%     -120.000000  \n",
       "75%      214.000000  \n",
       "max     4352.000000  "
      ]
     },
     "execution_count": 31,
     "metadata": {},
     "output_type": "execute_result"
    }
   ],
   "source": [
    "df_tra[df_tra[\"perfil_data\"]==1].describe()"
   ]
  },
  {
   "cell_type": "code",
   "execution_count": 32,
   "id": "25bc51d7-84d5-47cd-8979-a1ca2ffce582",
   "metadata": {},
   "outputs": [
    {
     "data": {
      "text/plain": [
       "-459.49526813880124"
      ]
     },
     "execution_count": 32,
     "metadata": {},
     "output_type": "execute_result"
    }
   ],
   "source": [
    "df_tra[(df_tra[\"perfil_data\"]==1)&(df_tra[\"calculo_dias\"]<0)][\"calculo_dias\"].mean()"
   ]
  },
  {
   "cell_type": "code",
   "execution_count": 33,
   "id": "3eaddbf8-d038-453f-b668-855a609a92f7",
   "metadata": {},
   "outputs": [],
   "source": [
    "cant_perfiles_data=df_tra.groupby([\"perfil_data\"])[\"n_perfil\"]"
   ]
  },
  {
   "cell_type": "code",
   "execution_count": 34,
   "id": "318dd124-686d-416d-933b-fc93c26de4e2",
   "metadata": {},
   "outputs": [
    {
     "data": {
      "text/plain": [
       "perfil_data\n",
       "0    637\n",
       "1    522\n",
       "Name: n_perfil, dtype: int64"
      ]
     },
     "execution_count": 34,
     "metadata": {},
     "output_type": "execute_result"
    }
   ],
   "source": [
    "cant_perfiles_data.size()"
   ]
  },
  {
   "cell_type": "code",
   "execution_count": 35,
   "id": "616e08a3-1111-40c5-957b-93a601cfe0c9",
   "metadata": {},
   "outputs": [
    {
     "data": {
      "image/png": "[encoded data removed]",
      "text/plain": [
       "<Figure size 576x504 with 1 Axes>"
      ]
     },
     "metadata": {
      "needs_background": "light"
     },
     "output_type": "display_data"
    }
   ],
   "source": [
    "plt.figure(figsize=(8,7))\n",
    "ax = sns.barplot(x=[\"no data studies\", \"with data studies\"], y=cant_perfiles_data.size())\n",
    "\n",
    "ax.set_xticklabels(ax.get_xticklabels(), rotation=40, ha=\"right\")\n",
    "\n",
    "plt.tight_layout()\n",
    "plt.savefig(f'C:\\\\Users\\\\david\\\\Documents\\\\eddie_portfolio\\\\hugo-resume\\\\static\\\\img\\\\gra_data_studies.png')\n",
    "plt.show()"
   ]
  },
  {
   "cell_type": "code",
   "execution_count": 36,
   "id": "8eb871ce-f589-491e-874b-4c798b4e18c0",
   "metadata": {},
   "outputs": [
    {
     "data": {
      "text/plain": [
       "Index(['n_perfil', 'perfil_data', 'cantidad_titulos', 'cantidad_titulos_data',\n",
       "       'Grado', 'Posgrado', 'Bootcamp', 'Masters', 'Ingenieria', 'Técnicos',\n",
       "       'Matemáticas', 'Humanidades', 'Economia', 'Marketing', 'Naturales',\n",
       "       'temas', 'fin_1_estu', 'inicio_trabajo', 'calculo_dias',\n",
       "       'tiempo_busqueda'],\n",
       "      dtype='object')"
      ]
     },
     "execution_count": 36,
     "metadata": {},
     "output_type": "execute_result"
    }
   ],
   "source": [
    "df_tra.columns"
   ]
  },
  {
   "cell_type": "code",
   "execution_count": 37,
   "id": "b7e3b53a-0eed-4f57-9007-21d151cddebc",
   "metadata": {},
   "outputs": [
    {
     "name": "stdout",
     "output_type": "stream",
     "text": [
      "23\n"
     ]
    },
    {
     "data": {
      "text/html": [
       "<div>\n",
       "<style scoped>\n",
       "    .dataframe tbody tr th:only-of-type {\n",
       "        vertical-align: middle;\n",
       "    }\n",
       "\n",
       "    .dataframe tbody tr th {\n",
       "        vertical-align: top;\n",
       "    }\n",
       "\n",
       "    .dataframe thead th {\n",
       "        text-align: right;\n",
       "    }\n",
       "</style>\n",
       "<table border=\"1\" class=\"dataframe\">\n",
       "  <thead>\n",
       "    <tr style=\"text-align: right;\">\n",
       "      <th></th>\n",
       "      <th>n_perfil</th>\n",
       "      <th>perfil_data</th>\n",
       "      <th>cantidad_titulos</th>\n",
       "      <th>cantidad_titulos_data</th>\n",
       "      <th>Grado</th>\n",
       "      <th>Posgrado</th>\n",
       "      <th>Bootcamp</th>\n",
       "      <th>Masters</th>\n",
       "      <th>Ingenieria</th>\n",
       "      <th>Técnicos</th>\n",
       "      <th>Matemáticas</th>\n",
       "      <th>Humanidades</th>\n",
       "      <th>Economia</th>\n",
       "      <th>Marketing</th>\n",
       "      <th>Naturales</th>\n",
       "      <th>temas</th>\n",
       "      <th>fin_1_estu</th>\n",
       "      <th>inicio_trabajo</th>\n",
       "      <th>calculo_dias</th>\n",
       "      <th>tiempo_busqueda</th>\n",
       "    </tr>\n",
       "  </thead>\n",
       "  <tbody>\n",
       "    <tr>\n",
       "      <th>1154</th>\n",
       "      <td>1555.0</td>\n",
       "      <td>1</td>\n",
       "      <td>4</td>\n",
       "      <td>1</td>\n",
       "      <td>1</td>\n",
       "      <td>1</td>\n",
       "      <td>0</td>\n",
       "      <td>0</td>\n",
       "      <td>0</td>\n",
       "      <td>0</td>\n",
       "      <td>0</td>\n",
       "      <td>0</td>\n",
       "      <td>1</td>\n",
       "      <td>1</td>\n",
       "      <td>0</td>\n",
       "      <td>Marketing</td>\n",
       "      <td>2019</td>\n",
       "      <td>2019-05-01 00:00:00</td>\n",
       "      <td>-120</td>\n",
       "      <td>buscó</td>\n",
       "    </tr>\n",
       "    <tr>\n",
       "      <th>1155</th>\n",
       "      <td>1556.0</td>\n",
       "      <td>1</td>\n",
       "      <td>2</td>\n",
       "      <td>1</td>\n",
       "      <td>0</td>\n",
       "      <td>1</td>\n",
       "      <td>0</td>\n",
       "      <td>0</td>\n",
       "      <td>0</td>\n",
       "      <td>0</td>\n",
       "      <td>1</td>\n",
       "      <td>0</td>\n",
       "      <td>0</td>\n",
       "      <td>0</td>\n",
       "      <td>0</td>\n",
       "      <td>Matemáticas</td>\n",
       "      <td>2016</td>\n",
       "      <td>2017-05-01 00:00:00</td>\n",
       "      <td>-486</td>\n",
       "      <td>buscó</td>\n",
       "    </tr>\n",
       "    <tr>\n",
       "      <th>1156</th>\n",
       "      <td>1557.0</td>\n",
       "      <td>1</td>\n",
       "      <td>3</td>\n",
       "      <td>1</td>\n",
       "      <td>1</td>\n",
       "      <td>1</td>\n",
       "      <td>0</td>\n",
       "      <td>0</td>\n",
       "      <td>0</td>\n",
       "      <td>1</td>\n",
       "      <td>1</td>\n",
       "      <td>0</td>\n",
       "      <td>0</td>\n",
       "      <td>0</td>\n",
       "      <td>0</td>\n",
       "      <td>Matemáticas</td>\n",
       "      <td>2021</td>\n",
       "      <td>2018-12-01 00:00:00</td>\n",
       "      <td>762</td>\n",
       "      <td>previo</td>\n",
       "    </tr>\n",
       "    <tr>\n",
       "      <th>1157</th>\n",
       "      <td>1558.0</td>\n",
       "      <td>0</td>\n",
       "      <td>5</td>\n",
       "      <td>0</td>\n",
       "      <td>1</td>\n",
       "      <td>1</td>\n",
       "      <td>0</td>\n",
       "      <td>4</td>\n",
       "      <td>0</td>\n",
       "      <td>1</td>\n",
       "      <td>0</td>\n",
       "      <td>0</td>\n",
       "      <td>0</td>\n",
       "      <td>0</td>\n",
       "      <td>0</td>\n",
       "      <td>Técnicos</td>\n",
       "      <td>0</td>\n",
       "      <td>2020-12-01 00:00:00</td>\n",
       "      <td>0</td>\n",
       "      <td>igual</td>\n",
       "    </tr>\n",
       "    <tr>\n",
       "      <th>1158</th>\n",
       "      <td>1559.0</td>\n",
       "      <td>1</td>\n",
       "      <td>3</td>\n",
       "      <td>1</td>\n",
       "      <td>0</td>\n",
       "      <td>1</td>\n",
       "      <td>0</td>\n",
       "      <td>2</td>\n",
       "      <td>1</td>\n",
       "      <td>1</td>\n",
       "      <td>1</td>\n",
       "      <td>0</td>\n",
       "      <td>0</td>\n",
       "      <td>0</td>\n",
       "      <td>1</td>\n",
       "      <td>Naturales</td>\n",
       "      <td>2016</td>\n",
       "      <td>2014-04-01 00:00:00</td>\n",
       "      <td>640</td>\n",
       "      <td>previo</td>\n",
       "    </tr>\n",
       "  </tbody>\n",
       "</table>\n",
       "</div>"
      ],
      "text/plain": [
       "      n_perfil  perfil_data  cantidad_titulos  cantidad_titulos_data  Grado  \\\n",
       "1154    1555.0            1                 4                      1      1   \n",
       "1155    1556.0            1                 2                      1      0   \n",
       "1156    1557.0            1                 3                      1      1   \n",
       "1157    1558.0            0                 5                      0      1   \n",
       "1158    1559.0            1                 3                      1      0   \n",
       "\n",
       "      Posgrado  Bootcamp  Masters  Ingenieria  Técnicos  Matemáticas  \\\n",
       "1154         1         0        0           0         0            0   \n",
       "1155         1         0        0           0         0            1   \n",
       "1156         1         0        0           0         1            1   \n",
       "1157         1         0        4           0         1            0   \n",
       "1158         1         0        2           1         1            1   \n",
       "\n",
       "      Humanidades  Economia  Marketing  Naturales        temas fin_1_estu  \\\n",
       "1154            0         1          1          0    Marketing       2019   \n",
       "1155            0         0          0          0  Matemáticas       2016   \n",
       "1156            0         0          0          0  Matemáticas       2021   \n",
       "1157            0         0          0          0     Técnicos          0   \n",
       "1158            0         0          0          1    Naturales       2016   \n",
       "\n",
       "           inicio_trabajo  calculo_dias tiempo_busqueda  \n",
       "1154  2019-05-01 00:00:00          -120           buscó  \n",
       "1155  2017-05-01 00:00:00          -486           buscó  \n",
       "1156  2018-12-01 00:00:00           762          previo  \n",
       "1157  2020-12-01 00:00:00             0           igual  \n",
       "1158  2014-04-01 00:00:00           640          previo  "
      ]
     },
     "execution_count": 37,
     "metadata": {},
     "output_type": "execute_result"
    }
   ],
   "source": [
    "print(len(df_tra[(df_tra[\"temas\"]==\"Otro\")&(df_tra[\"perfil_data\"]==1)&(df_tra[\"cantidad_titulos\"]!=df_tra[\"cantidad_titulos_data\"])]))\n",
    "df_tra[(df_tra[\"temas\"]==\"Otro\")&(df_tra[\"perfil_data\"]==1)&(df_tra[\"cantidad_titulos\"]!=df_tra[\"cantidad_titulos_data\"])]\n",
    "df_tra.tail()"
   ]
  },
  {
   "cell_type": "markdown",
   "id": "318c59e9-5fe1-4e92-a7fe-4451c700e73a",
   "metadata": {},
   "source": [
    "## Analyzing the relations"
   ]
  },
  {
   "cell_type": "code",
   "execution_count": 38,
   "id": "0fbbf4a1-9c5f-476d-9dbe-3cfa5c2a89f9",
   "metadata": {
    "tags": []
   },
   "outputs": [
    {
     "data": {
      "image/png": "[encoded data removed]",
      "text/plain": [
       "<Figure size 576x504 with 1 Axes>"
      ]
     },
     "metadata": {
      "needs_background": "light"
     },
     "output_type": "display_data"
    }
   ],
   "source": [
    "plt.figure(figsize=(8,7))\n",
    "ax=sns.countplot(x='temas',data=df_tra[df_tra[\"perfil_data\"]==1])\n",
    "ax.set_xticklabels(ax.get_xticklabels(), rotation=40, ha=\"right\")\n",
    "\n",
    "plt.tight_layout()\n",
    "plt.savefig(f'C:\\\\Users\\\\david\\\\Documents\\\\eddie_portfolio\\\\hugo-resume\\\\static\\\\img\\\\gra_temas.png')\n",
    "plt.show()"
   ]
  },
  {
   "cell_type": "code",
   "execution_count": 39,
   "id": "e923e11b-e76c-4f46-afcd-57444704a5e0",
   "metadata": {},
   "outputs": [
    {
     "data": {
      "image/png": "[encoded data removed]",
      "text/plain": [
       "<Figure size 576x504 with 1 Axes>"
      ]
     },
     "metadata": {
      "needs_background": "light"
     },
     "output_type": "display_data"
    }
   ],
   "source": [
    "plt.figure(figsize=(8,7))\n",
    "ax=sns.countplot(x='tiempo_busqueda',data=df_tra[df_tra[\"perfil_data\"]==1])\n",
    "ax.set_xticklabels(ax.get_xticklabels(), rotation=40, ha=\"right\")\n",
    "\n",
    "plt.tight_layout()\n",
    "plt.savefig(f'C:\\\\Users\\\\david\\\\Documents\\\\eddie_portfolio\\\\hugo-resume\\\\static\\\\img\\\\gra_search_time.png')\n",
    "plt.show()"
   ]
  },
  {
   "cell_type": "code",
   "execution_count": 40,
   "id": "37547358-b30c-463c-a9e1-a6b67cfc8dd2",
   "metadata": {},
   "outputs": [
    {
     "data": {
      "image/png": "[encoded data removed]",
      "text/plain": [
       "<Figure size 576x504 with 1 Axes>"
      ]
     },
     "metadata": {
      "needs_background": "light"
     },
     "output_type": "display_data"
    }
   ],
   "source": [
    "plt.figure(figsize=(8,7))\n",
    "ax=sns.barplot(x='cantidad_titulos_data',y=\"calculo_dias\",data=df_tra)\n",
    "ax.set_xticklabels(ax.get_xticklabels(), rotation=40, ha=\"right\")\n",
    "\n",
    "plt.tight_layout()\n",
    "plt.savefig(f'C:\\\\Users\\\\david\\\\Documents\\\\eddie_portfolio\\\\hugo-resume\\\\static\\\\img\\\\gra_titulosdata_dias.png')\n",
    "plt.show()"
   ]
  },
  {
   "cell_type": "code",
   "execution_count": 41,
   "id": "8020ff52-3f2d-4c9a-8192-58d0dbd40f42",
   "metadata": {},
   "outputs": [
    {
     "data": {
      "image/png": "[encoded data removed]",
      "text/plain": [
       "<Figure size 576x504 with 1 Axes>"
      ]
     },
     "metadata": {
      "needs_background": "light"
     },
     "output_type": "display_data"
    }
   ],
   "source": [
    "plt.figure(figsize=(8,7))\n",
    "ax=sns.barplot(x='temas',y=\"calculo_dias\",data=df_tra[df_tra[\"calculo_dias\"]<=0])\n",
    "ax.set_xticklabels(ax.get_xticklabels(), rotation=40, ha=\"right\")\n",
    "\n",
    "plt.tight_layout()\n",
    "plt.savefig(f'C:\\\\Users\\\\david\\\\Documents\\\\eddie_portfolio\\\\hugo-resume\\\\static\\\\img\\\\gra_temas_dias.png')\n",
    "plt.show()"
   ]
  },
  {
   "cell_type": "code",
   "execution_count": 42,
   "id": "a2af8b2d-e9c5-4f81-8066-bbbb1abd943e",
   "metadata": {
    "tags": []
   },
   "outputs": [],
   "source": [
    "# pd.set_option('display.max_columns', None)  # or 1000\n",
    "# pd.set_option('display.max_rows', None)  # or 1000\n",
    "# pd.set_option('display.max_colwidth', -1)  # or 199\n",
    "#pd.reset_option('all')"
   ]
  },
  {
   "cell_type": "code",
   "execution_count": 43,
   "id": "0a3d0787-77d2-4ece-ae81-55710dd8d686",
   "metadata": {
    "tags": []
   },
   "outputs": [
    {
     "data": {
      "text/plain": [
       "<AxesSubplot:>"
      ]
     },
     "execution_count": 43,
     "metadata": {},
     "output_type": "execute_result"
    },
    {
     "data": {
      "image/png": "[encoded data removed]",
      "text/plain": [
       "<Figure size 792x648 with 2 Axes>"
      ]
     },
     "metadata": {},
     "output_type": "display_data"
    }
   ],
   "source": [
    "corr=df_tra[(df_tra[\"perfil_data\"]==1)&(df_tra[\"calculo_dias\"]<0)].corr()\n",
    "#sns.heatmap()\n",
    "sns.set_theme(style=\"white\")\n",
    "\n",
    "# Generate a mask for the upper triangle\n",
    "mask = np.triu(np.ones_like(corr, dtype=bool))\n",
    "\n",
    "# Set up the matplotlib figure\n",
    "f, ax = plt.subplots(figsize=(11, 9))\n",
    "\n",
    "# Generate a custom diverging colormap\n",
    "cmap = sns.diverging_palette(230, 20, as_cmap=True)\n",
    "\n",
    "# Draw the heatmap with the mask and correct aspect ratio\n",
    "sns.heatmap(corr, mask=mask, cmap=cmap, vmax=.3, center=0,\n",
    "            square=True, linewidths=.5, cbar_kws={\"shrink\": .5})"
   ]
  },
  {
   "cell_type": "code",
   "execution_count": 44,
   "id": "e185aa9a-e0f9-4690-8479-3b6b499ebbac",
   "metadata": {},
   "outputs": [],
   "source": [
    "# corr=df_tra[(df_tra[\"calculo_dias\"]<500)&(df_tra[\"calculo_dias\"]>-500)]\n",
    "# sns.pairplot(corr)"
   ]
  },
  {
   "cell_type": "code",
   "execution_count": 45,
   "id": "2f5c08b8-221c-4fbd-b69a-6566e7ada529",
   "metadata": {},
   "outputs": [
    {
     "data": {
      "text/plain": [
       "<AxesSubplot:xlabel='Masters', ylabel='calculo_dias'>"
      ]
     },
     "execution_count": 45,
     "metadata": {},
     "output_type": "execute_result"
    },
    {
     "data": {
      "image/png": "[encoded data removed]",
      "text/plain": [
       "<Figure size 432x288 with 1 Axes>"
      ]
     },
     "metadata": {},
     "output_type": "display_data"
    }
   ],
   "source": [
    "sns.boxplot(x=\"Masters\", y=\"calculo_dias\",\n",
    "            hue=\"Masters\", palette=[\"m\", \"g\"],\n",
    "            data=df_tra[(df_tra[\"calculo_dias\"]<500)&(df_tra[\"calculo_dias\"]>-500)])"
   ]
  },
  {
   "cell_type": "markdown",
   "id": "c94144b8-7e19-412d-8b0c-2ec5ef1d5c20",
   "metadata": {},
   "source": [
    "### Dropping Outliers"
   ]
  },
  {
   "cell_type": "code",
   "execution_count": 46,
   "id": "6e615016-fd06-4655-ac88-700efbfdc369",
   "metadata": {},
   "outputs": [
    {
     "data": {
      "text/plain": [
       "275"
      ]
     },
     "execution_count": 46,
     "metadata": {},
     "output_type": "execute_result"
    }
   ],
   "source": [
    "df_tra_so=df_tra[(df_tra[\"calculo_dias\"]<0)&(df_tra[\"calculo_dias\"]>-900)]\n",
    "len(df_tra_so)"
   ]
  },
  {
   "cell_type": "markdown",
   "id": "aadbc168-d7a7-4477-b3af-c01c2f5f8e43",
   "metadata": {},
   "source": [
    "### Binning"
   ]
  },
  {
   "cell_type": "code",
   "execution_count": 47,
   "id": "39eaec77-3f4d-49d6-99fd-d7d784f6a325",
   "metadata": {},
   "outputs": [
    {
     "name": "stdout",
     "output_type": "stream",
     "text": [
      "['-2.33', '-1.56', '-0.8']\n",
      "3\n"
     ]
    },
    {
     "name": "stderr",
     "output_type": "stream",
     "text": [
      "<ipython-input-47-cb71ca4fb31b>:7: SettingWithCopyWarning: \n",
      "A value is trying to be set on a copy of a slice from a DataFrame.\n",
      "Try using .loc[row_indexer,col_indexer] = value instead\n",
      "\n",
      "See the caveats in the documentation: https://pandas.pydata.org/pandas-docs/stable/user_guide/indexing.html#returning-a-view-versus-a-copy\n",
      "  df_tra_so['cd-binned'] =  pd.cut(df_tra_so['calculo_dias'], bins, labels=categorias, include_lowest=True )\n",
      "C:\\Users\\david\\anaconda3\\lib\\site-packages\\seaborn\\_decorators.py:36: FutureWarning: Pass the following variable as a keyword arg: x. From version 0.12, the only valid positional argument will be `data`, and passing other arguments without an explicit keyword will result in an error or misinterpretation.\n",
      "  warnings.warn(\n"
     ]
    },
    {
     "data": {
      "text/plain": [
       "<AxesSubplot:xlabel='cd-binned', ylabel='count'>"
      ]
     },
     "execution_count": 47,
     "metadata": {},
     "output_type": "execute_result"
    },
    {
     "data": {
      "image/png": "[encoded data removed]",
      "text/plain": [
       "<Figure size 432x288 with 1 Axes>"
      ]
     },
     "metadata": {},
     "output_type": "display_data"
    }
   ],
   "source": [
    "bins = np.linspace(min(df_tra_so[\"calculo_dias\"]), max(df_tra_so[\"calculo_dias\"]), 4)\n",
    "categorias=[]\n",
    "for b in bins[:-1]:\n",
    "    categorias.append(str(round(b/365, 2)))\n",
    "print(categorias)\n",
    "print(len(categorias))\n",
    "df_tra_so['cd-binned'] =  pd.cut(df_tra_so['calculo_dias'], bins, labels=categorias, include_lowest=True )\n",
    "sns.countplot(df_tra_so[\"cd-binned\"])\n",
    "# plt.bar(categorias, df_tra_so[\"cd-binned\"].value_counts())\n",
    "# plt.xlabel(\"age\")\n",
    "# plt.ylabel(\"count\")\n",
    "# plt.title(\"age bins\")\n",
    "# plt.show()"
   ]
  },
  {
   "cell_type": "code",
   "execution_count": 48,
   "id": "a542ff71-e29e-4d6a-98d7-8d9b09a471b6",
   "metadata": {},
   "outputs": [
    {
     "data": {
      "text/plain": [
       "-1.56    5\n",
       "-0.8     3\n",
       "-2.33    1\n",
       "Name: cd-binned, dtype: int64"
      ]
     },
     "execution_count": 48,
     "metadata": {},
     "output_type": "execute_result"
    }
   ],
   "source": [
    "df_tra_so[df_tra_so['Bootcamp']==1]['cd-binned'].value_counts()"
   ]
  },
  {
   "cell_type": "markdown",
   "id": "00ca8023-22cb-48dc-9f29-d664fb0d7c2a",
   "metadata": {},
   "source": [
    "# Testing Models"
   ]
  },
  {
   "cell_type": "code",
   "execution_count": 49,
   "id": "d1f7447c-a40d-48bf-824d-4a4110d8d4e4",
   "metadata": {},
   "outputs": [],
   "source": [
    "# from sklearn.preprocessing import MinMaxScaler\n",
    "# X=df_tra_so.drop(['cd-binned','calculo_dias','fin_1_estu','inicio_trabajo'], axis=1)\n",
    "# y=df_tra_so.calculo_dias\n",
    "# scaler_X = MinMaxScaler()\n",
    "# scaler_X.fit(X)\n",
    "# X = scaler_X.transform(X)"
   ]
  },
  {
   "cell_type": "code",
   "execution_count": 50,
   "id": "788ce7a6-2382-4408-9c3b-95d8cbce9108",
   "metadata": {},
   "outputs": [],
   "source": [
    "# from sklearn.decomposition import PCA\n",
    "\n",
    "# pca = PCA()\n",
    "# X_train_pca = pca.fit_transform(X)\n",
    "# pca.explained_variance_ratio_\n",
    "\n",
    "# plt.figure(figsize=(8,6))\n",
    "# plt.bar(range(len(pca.explained_variance_ratio_)), pca.explained_variance_ratio_.cumsum())\n",
    "# plt.ylabel('Varianza explicada')   # puedo definir un corte en la cantidad de Z que quiero de acuerdo a la cantidad acumulada de varianza explicada.\n",
    "# plt.xlabel('PCA Index')  # lo ideal es quedarse con una varianza acumulada del 60% (en este caso las tres primeras barras explcian el 60% de la varianza explicada)\n",
    "# plt.show()"
   ]
  },
  {
   "cell_type": "code",
   "execution_count": 51,
   "id": "32560fda-ac1a-454e-9ddc-473ec93e3d5c",
   "metadata": {},
   "outputs": [],
   "source": [
    "# pca = PCA(n_components=12)\n",
    "# X_train_pca = pca.fit_transform(X)"
   ]
  },
  {
   "cell_type": "code",
   "execution_count": 52,
   "id": "d5b7fdf2-7c57-483a-991d-3e5e67a9462e",
   "metadata": {},
   "outputs": [],
   "source": [
    "from sklearn import linear_model\n",
    "from sklearn.model_selection import train_test_split\n",
    "from sklearn.metrics import mean_squared_error, r2_score"
   ]
  },
  {
   "cell_type": "code",
   "execution_count": 53,
   "id": "e4715b35-9be0-4be7-a03e-c9beb844be42",
   "metadata": {},
   "outputs": [],
   "source": [
    "# X_train, X_test, y_train, y_test = train_test_split(X_train_pca, y, test_size=0.30)"
   ]
  },
  {
   "cell_type": "code",
   "execution_count": 54,
   "id": "f90bb82c-824c-46fd-b36b-c06d7099e37f",
   "metadata": {},
   "outputs": [],
   "source": [
    "# regresion_lineal = linear_model.LinearRegression()\n",
    "# regresion_lineal.fit(X_train, y_train)"
   ]
  },
  {
   "cell_type": "code",
   "execution_count": 55,
   "id": "33b82817-4f6e-4e32-9c45-31335cdaf557",
   "metadata": {},
   "outputs": [],
   "source": [
    "# yhat = regresion_lineal.predict(X_test)\n",
    "\n",
    "# for i,j in zip(yhat,y_test):\n",
    "#     print(\"Predicción: \",i, \"Valor real: \",j)\n",
    "#     break"
   ]
  },
  {
   "cell_type": "code",
   "execution_count": 56,
   "id": "435678d9-33bc-4b6d-9e72-880b71a15158",
   "metadata": {},
   "outputs": [],
   "source": [
    "# mean_squared_error(yhat,y_test)"
   ]
  },
  {
   "cell_type": "code",
   "execution_count": 57,
   "id": "3a8eeef0-29be-4da0-ab34-1f552e97f9bb",
   "metadata": {},
   "outputs": [],
   "source": [
    "# r2_sin_ajustar = regresion_lineal.score(X_test, y_test) \n",
    "# r2_ajustada = 1 - (1-regresion_lineal.score(X_test, y_test))*(len(y_test)-1)/(len(y_test)-X_test.shape[1]-1)\n",
    "\n",
    "# r2_sin_ajustar, r2_ajustada"
   ]
  },
  {
   "cell_type": "code",
   "execution_count": 58,
   "id": "b792f161-8288-49bd-878a-3d67b7daf670",
   "metadata": {},
   "outputs": [],
   "source": [
    "from sklearn.preprocessing import MinMaxScaler\n",
    "X=df_tra_so.drop(['cd-binned','calculo_dias','fin_1_estu','inicio_trabajo','temas','tiempo_busqueda'], axis=1)\n",
    "y=df_tra_so['cd-binned']\n",
    "scaler_X = MinMaxScaler()\n",
    "scaler_X.fit(X)\n",
    "X = scaler_X.transform(X)"
   ]
  },
  {
   "cell_type": "code",
   "execution_count": 59,
   "id": "ef49a1ee-6d2f-47a0-ad7c-0ec2675f9f01",
   "metadata": {},
   "outputs": [],
   "source": [
    "# from sklearn.decomposition import PCA\n",
    "\n",
    "# pca = PCA()\n",
    "# X_train_pca = pca.fit_transform(X)\n",
    "# pca.explained_variance_ratio_\n",
    "\n",
    "# plt.figure(figsize=(8,6))\n",
    "# plt.bar(range(len(pca.explained_variance_ratio_)), pca.explained_variance_ratio_.cumsum())\n",
    "# plt.ylabel('Varianza explicada')   # puedo definir un corte en la cantidad de Z que quiero de acuerdo a la cantidad acumulada de varianza explicada.\n",
    "# plt.xlabel('PCA Index')  # lo ideal es quedarse con una varianza acumulada del 60% (en este caso las tres primeras barras explcian el 60% de la varianza explicada)\n",
    "# plt.show()"
   ]
  },
  {
   "cell_type": "code",
   "execution_count": 60,
   "id": "d22c180f-dc2a-40ac-a680-2dbb951021b6",
   "metadata": {},
   "outputs": [],
   "source": [
    "# pca = PCA(n_components=7)\n",
    "# X_train_pca = pca.fit_transform(X)"
   ]
  },
  {
   "cell_type": "code",
   "execution_count": 61,
   "id": "5b1abd62-5c1c-42ff-adb0-d14eb7d502ac",
   "metadata": {},
   "outputs": [],
   "source": [
    "from sklearn.metrics import confusion_matrix, ConfusionMatrixDisplay\n",
    "from sklearn.metrics import precision_score\n",
    "from sklearn.metrics import recall_score\n",
    "from sklearn.metrics import f1_score"
   ]
  },
  {
   "cell_type": "code",
   "execution_count": 62,
   "id": "713f9cb7-1384-4234-96d5-46a49170f479",
   "metadata": {},
   "outputs": [],
   "source": [
    "X_train, X_test, y_train, y_test = train_test_split(X, y, test_size=0.20, stratify=y)"
   ]
  },
  {
   "cell_type": "code",
   "execution_count": 63,
   "id": "e101f4aa-bca3-48fd-85d2-ed8f6be31240",
   "metadata": {},
   "outputs": [
    {
     "name": "stdout",
     "output_type": "stream",
     "text": [
      "Accuracy:  0.16363636363636364\n"
     ]
    }
   ],
   "source": [
    "from sklearn.naive_bayes import GaussianNB\n",
    "from sklearn.metrics import accuracy_score\n",
    "clf = GaussianNB()\n",
    "clf.fit(X_train, y_train)\n",
    "yhat = clf.predict(X_test)\n",
    "print(\"Accuracy: \", accuracy_score(y_test,yhat))"
   ]
  },
  {
   "cell_type": "code",
   "execution_count": 64,
   "id": "4573c6f6-88f0-47fb-b5eb-16cf63dc246f",
   "metadata": {},
   "outputs": [
    {
     "name": "stdout",
     "output_type": "stream",
     "text": [
      "Exactitud:  0.16363636363636364\n",
      "Precisión:  0.32051282051282054\n",
      "Sensibilidad:  0.32941176470588235\n",
      "F1-score:  0.15139701104613384\n",
      "[[ 3 10 21]\n",
      " [ 1  1 13]\n",
      " [ 0  1  5]]\n"
     ]
    },
    {
     "data": {
      "text/plain": [
       "<sklearn.metrics._plot.confusion_matrix.ConfusionMatrixDisplay at 0x1ca483f1ac0>"
      ]
     },
     "execution_count": 64,
     "metadata": {},
     "output_type": "execute_result"
    },
    {
     "data": {
      "image/png": "[encoded data removed]",
      "text/plain": [
       "<Figure size 432x288 with 2 Axes>"
      ]
     },
     "metadata": {},
     "output_type": "display_data"
    }
   ],
   "source": [
    "\n",
    "print(\"Exactitud: \" , accuracy_score(y_test,yhat))\n",
    "print(\"Precisión: \", precision_score(y_test,yhat, average=\"macro\"))\n",
    "print(\"Sensibilidad: \", recall_score(y_test,yhat, average=\"macro\"))\n",
    "print(\"F1-score: \", f1_score(y_test,yhat, average=\"macro\"))\n",
    "cm = confusion_matrix(y_test,yhat)\n",
    "print(cm)\n",
    "disp = ConfusionMatrixDisplay(confusion_matrix=cm,display_labels=clf.classes_)\n",
    "disp.plot()"
   ]
  },
  {
   "cell_type": "code",
   "execution_count": 65,
   "id": "549497fc-9561-4b58-a67e-9b15277f42bd",
   "metadata": {},
   "outputs": [],
   "source": [
    "from sklearn import tree\n",
    "clf = tree.DecisionTreeClassifier(criterion=\"entropy\")\n",
    "clf = clf.fit(X_train, y_train)\n",
    "yhat = clf.predict(X_test)"
   ]
  },
  {
   "cell_type": "code",
   "execution_count": 66,
   "id": "5d576ea7-97cb-4302-b40b-cbd4b4fcebde",
   "metadata": {},
   "outputs": [
    {
     "name": "stdout",
     "output_type": "stream",
     "text": [
      "Exactitud:  0.4909090909090909\n",
      "Precisión:  0.37222222222222223\n",
      "Sensibilidad:  0.3934640522875817\n",
      "F1-score:  0.3763128800442233\n",
      "[[22  7  5]\n",
      " [ 9  3  3]\n",
      " [ 2  2  2]]\n"
     ]
    },
    {
     "data": {
      "text/plain": [
       "<sklearn.metrics._plot.confusion_matrix.ConfusionMatrixDisplay at 0x1ca494ee370>"
      ]
     },
     "execution_count": 66,
     "metadata": {},
     "output_type": "execute_result"
    },
    {
     "data": {
      "image/png": "[encoded data removed]",
      "text/plain": [
       "<Figure size 432x288 with 2 Axes>"
      ]
     },
     "metadata": {},
     "output_type": "display_data"
    }
   ],
   "source": [
    "print(\"Exactitud: \" , accuracy_score(y_test,yhat))\n",
    "print(\"Precisión: \", precision_score(y_test,yhat, average=\"macro\"))\n",
    "print(\"Sensibilidad: \", recall_score(y_test,yhat, average=\"macro\"))\n",
    "print(\"F1-score: \", f1_score(y_test,yhat, average=\"macro\"))\n",
    "cm = confusion_matrix(y_test,yhat)\n",
    "print(cm)\n",
    "disp = ConfusionMatrixDisplay(confusion_matrix=cm,display_labels=clf.classes_)\n",
    "disp.plot()"
   ]
  },
  {
   "cell_type": "code",
   "execution_count": 78,
   "id": "05279bf8-e9d9-44ef-ac2a-bdbc125de559",
   "metadata": {},
   "outputs": [
    {
     "name": "stdout",
     "output_type": "stream",
     "text": [
      "Exactitud:  0.6909090909090909\n",
      "Precisión:  0.6645299145299145\n",
      "Sensibilidad:  0.5843137254901961\n",
      "F1-score:  0.6129883307965499\n",
      "[[29  5  0]\n",
      " [ 8  6  1]\n",
      " [ 2  1  3]]\n"
     ]
    },
    {
     "data": {
      "image/png": "[encoded data removed]",
      "text/plain": [
       "<Figure size 432x288 with 2 Axes>"
      ]
     },
     "metadata": {},
     "output_type": "display_data"
    }
   ],
   "source": [
    "from sklearn.ensemble import RandomForestClassifier\n",
    "\n",
    "clf = RandomForestClassifier(criterion=\"entropy\")\n",
    "clf = clf.fit(X_train, y_train)\n",
    "yhat = clf.predict(X_test)\n",
    "accuracy_score(y_test,yhat)\n",
    "print(\"Exactitud: \" , accuracy_score(y_test,yhat))\n",
    "print(\"Precisión: \", precision_score(y_test,yhat, average=\"macro\"))\n",
    "print(\"Sensibilidad: \", recall_score(y_test,yhat, average=\"macro\"))\n",
    "print(\"F1-score: \", f1_score(y_test,yhat, average=\"macro\"))\n",
    "cm = confusion_matrix(y_test,yhat)\n",
    "print(cm)\n",
    "disp = ConfusionMatrixDisplay(confusion_matrix=cm,display_labels=clf.classes_)\n",
    "disp.plot()\n",
    "\n",
    "plt.savefig(f'C:\\\\Users\\\\david\\\\Documents\\\\eddie_portfolio\\\\hugo-resume\\\\static\\\\img\\\\gra_cm_randomforest.png')\n"
   ]
  },
  {
   "cell_type": "code",
   "execution_count": 68,
   "id": "07ebaa9d-2817-4150-8b6e-c7aa83c8d721",
   "metadata": {},
   "outputs": [
    {
     "data": {
      "text/plain": [
       "array([[0.92, 0.08, 0.  ],\n",
       "       [0.51, 0.23, 0.26],\n",
       "       [0.69, 0.23, 0.08],\n",
       "       [0.81, 0.04, 0.15],\n",
       "       [0.96, 0.04, 0.  ],\n",
       "       [0.73, 0.1 , 0.17],\n",
       "       [0.63, 0.23, 0.14],\n",
       "       [0.62, 0.31, 0.07],\n",
       "       [0.39, 0.34, 0.27],\n",
       "       [0.86, 0.14, 0.  ],\n",
       "       [0.36, 0.01, 0.63],\n",
       "       [0.84, 0.16, 0.  ],\n",
       "       [0.53, 0.41, 0.06],\n",
       "       [0.94, 0.04, 0.02],\n",
       "       [0.3 , 0.7 , 0.  ],\n",
       "       [0.9 , 0.07, 0.03],\n",
       "       [0.62, 0.13, 0.25],\n",
       "       [0.65, 0.35, 0.  ],\n",
       "       [0.75, 0.21, 0.04],\n",
       "       [0.27, 0.44, 0.29],\n",
       "       [0.9 , 0.07, 0.03],\n",
       "       [0.64, 0.2 , 0.16],\n",
       "       [0.36, 0.64, 0.  ],\n",
       "       [0.81, 0.18, 0.01],\n",
       "       [0.99, 0.01, 0.  ],\n",
       "       [0.87, 0.13, 0.  ],\n",
       "       [0.42, 0.1 , 0.48],\n",
       "       [0.28, 0.48, 0.24],\n",
       "       [0.7 , 0.29, 0.01],\n",
       "       [0.35, 0.62, 0.03],\n",
       "       [0.35, 0.52, 0.13],\n",
       "       [0.78, 0.19, 0.03],\n",
       "       [0.43, 0.54, 0.03],\n",
       "       [0.66, 0.11, 0.23],\n",
       "       [0.44, 0.35, 0.21],\n",
       "       [0.24, 0.38, 0.38],\n",
       "       [0.55, 0.39, 0.06],\n",
       "       [0.74, 0.09, 0.17],\n",
       "       [0.56, 0.21, 0.23],\n",
       "       [0.83, 0.04, 0.13],\n",
       "       [0.52, 0.06, 0.42],\n",
       "       [0.45, 0.55, 0.  ],\n",
       "       [0.42, 0.58, 0.  ],\n",
       "       [0.45, 0.29, 0.26],\n",
       "       [0.68, 0.25, 0.07],\n",
       "       [0.36, 0.64, 0.  ],\n",
       "       [0.83, 0.16, 0.01],\n",
       "       [0.89, 0.11, 0.  ],\n",
       "       [0.96, 0.01, 0.03],\n",
       "       [0.81, 0.12, 0.07],\n",
       "       [0.57, 0.22, 0.21],\n",
       "       [0.58, 0.37, 0.05],\n",
       "       [0.26, 0.7 , 0.04],\n",
       "       [0.59, 0.13, 0.28],\n",
       "       [0.32, 0.65, 0.03]])"
      ]
     },
     "execution_count": 68,
     "metadata": {},
     "output_type": "execute_result"
    }
   ],
   "source": [
    "clf.predict_proba(X_test)"
   ]
  },
  {
   "cell_type": "code",
   "execution_count": 69,
   "id": "40cacac2-df36-4551-95ab-b90aff17f6b1",
   "metadata": {},
   "outputs": [
    {
     "name": "stdout",
     "output_type": "stream",
     "text": [
      "{'bootstrap': True, 'ccp_alpha': 0.0, 'class_weight': None, 'criterion': 'entropy', 'max_depth': None, 'max_features': 'auto', 'max_leaf_nodes': None, 'max_samples': None, 'min_impurity_decrease': 0.0, 'min_samples_leaf': 1, 'min_samples_split': 2, 'min_weight_fraction_leaf': 0.0, 'n_estimators': 100, 'n_jobs': None, 'oob_score': False, 'random_state': None, 'verbose': 0, 'warm_start': False}\n"
     ]
    }
   ],
   "source": [
    "print(clf.get_params())"
   ]
  },
  {
   "cell_type": "code",
   "execution_count": 70,
   "id": "40989679-9efa-4d47-a29f-c8b6055f5496",
   "metadata": {},
   "outputs": [],
   "source": [
    "params={'n_estimators': [100,200,300],\n",
    "        'criterion':['gini','entropy'],\n",
    "        'max_depth': [3,4,5,6,7,8],# Maxima pofundidad del arbol\n",
    "        'max_features': [2, 3], # numero de features a considerar en cada split\n",
    "        'max_leaf_nodes': [8], # maximo de nodos del arbol\n",
    "        'min_impurity_decrease' : [0.02,0.3], # un nuevo nodo se hará si al hacerse se decrece la impurity en un threshold por encima del valor\n",
    "        'min_samples_split': [2,5] # The minimum number of samples required to split an internal node\n",
    "        }"
   ]
  },
  {
   "cell_type": "code",
   "execution_count": 71,
   "id": "22338e25-123c-437c-886e-2cc8a6d277c2",
   "metadata": {},
   "outputs": [
    {
     "name": "stdout",
     "output_type": "stream",
     "text": [
      "0.3333161865569273\n",
      "0.2546605559281615\n",
      "0.6181502525252527\n",
      "0.6181818181818183\n",
      "{'criterion': 'gini', 'max_depth': 3, 'max_features': 2, 'max_leaf_nodes': 8, 'min_impurity_decrease': 0.02, 'min_samples_split': 2, 'n_estimators': 100}\n"
     ]
    },
    {
     "data": {
      "text/plain": [
       "RandomForestClassifier(max_depth=3, max_features=2, max_leaf_nodes=8,\n",
       "                       min_impurity_decrease=0.02)"
      ]
     },
     "execution_count": 71,
     "metadata": {},
     "output_type": "execute_result"
    }
   ],
   "source": [
    "# GRid Search\n",
    "from sklearn.model_selection import GridSearchCV\n",
    "from sklearn.metrics import accuracy_score\n",
    "from sklearn.metrics import f1_score, make_scorer,recall_score\n",
    "\n",
    "scorers = {\"f1_macro\",\"accuracy\",\"recall_macro\"}\n",
    "clf = RandomForestClassifier()\n",
    "grid_solver = GridSearchCV(estimator = clf, \n",
    "                   param_grid = params, \n",
    "                   scoring=scorers,\n",
    "                   cv = 5,\n",
    "                   refit=\"accuracy\",\n",
    "                   n_jobs=-1)\n",
    "\n",
    "model_result = grid_solver.fit(X_train,y_train)\n",
    "\n",
    "print(model_result.cv_results_[\"mean_test_recall_macro\"].mean())\n",
    "print(model_result.cv_results_[\"mean_test_f1_macro\"].mean())\n",
    "print(model_result.cv_results_[\"mean_test_accuracy\"].mean())\n",
    "print(model_result.best_score_)\n",
    "print(model_result.best_params_)\n",
    "model_result.best_estimator_"
   ]
  },
  {
   "cell_type": "code",
   "execution_count": 72,
   "id": "9914249b-27c9-4bcf-a7f4-b0f60bd8e45c",
   "metadata": {},
   "outputs": [
    {
     "data": {
      "text/plain": [
       "0.6181818181818182"
      ]
     },
     "execution_count": 72,
     "metadata": {},
     "output_type": "execute_result"
    }
   ],
   "source": [
    "clf = model_result.best_estimator_\n",
    "clf = clf.fit(X_train, y_train)\n",
    "yhat = clf.predict(X_test)\n",
    "accuracy_score(y_test,yhat)"
   ]
  },
  {
   "cell_type": "code",
   "execution_count": 73,
   "id": "3c5a86db-5e3d-4d2b-9b23-bc25abaa3508",
   "metadata": {},
   "outputs": [
    {
     "name": "stdout",
     "output_type": "stream",
     "text": [
      "Exactitud:  0.6181818181818182\n",
      "Precisión:  0.20606060606060606\n",
      "Sensibilidad:  0.3333333333333333\n",
      "F1-score:  0.2546816479400749\n",
      "[[34  0  0]\n",
      " [15  0  0]\n",
      " [ 6  0  0]]\n"
     ]
    },
    {
     "name": "stderr",
     "output_type": "stream",
     "text": [
      "C:\\Users\\david\\anaconda3\\lib\\site-packages\\sklearn\\metrics\\_classification.py:1308: UndefinedMetricWarning: Precision is ill-defined and being set to 0.0 in labels with no predicted samples. Use `zero_division` parameter to control this behavior.\n",
      "  _warn_prf(average, modifier, msg_start, len(result))\n"
     ]
    },
    {
     "data": {
      "text/plain": [
       "<sklearn.metrics._plot.confusion_matrix.ConfusionMatrixDisplay at 0x1ca49a6f4f0>"
      ]
     },
     "execution_count": 73,
     "metadata": {},
     "output_type": "execute_result"
    },
    {
     "data": {
      "image/png": "[encoded data removed]",
      "text/plain": [
       "<Figure size 432x288 with 2 Axes>"
      ]
     },
     "metadata": {},
     "output_type": "display_data"
    }
   ],
   "source": [
    "\n",
    "print(\"Exactitud: \" , accuracy_score(y_test,yhat))\n",
    "print(\"Precisión: \", precision_score(y_test,yhat, average=\"macro\"))\n",
    "print(\"Sensibilidad: \", recall_score(y_test,yhat, average=\"macro\"))\n",
    "print(\"F1-score: \", f1_score(y_test,yhat, average=\"macro\"))\n",
    "cm = confusion_matrix(y_test,yhat)\n",
    "print(cm)\n",
    "disp = ConfusionMatrixDisplay(confusion_matrix=cm,display_labels=clf.classes_)\n",
    "disp.plot()"
   ]
  },
  {
   "cell_type": "code",
   "execution_count": 74,
   "id": "e812f0af-b876-464c-83e5-c40dd4712e5f",
   "metadata": {},
   "outputs": [],
   "source": [
    "from sklearn.neighbors import KNeighborsClassifier\n",
    "clasificador = KNeighborsClassifier(100, algorithm=\"brute\")\n",
    "clasificador.fit(X_train, y_train)\n",
    "yhat = clasificador.predict(X_test)"
   ]
  },
  {
   "cell_type": "code",
   "execution_count": 75,
   "id": "3bbee2b0-47c1-4df3-a862-824f9bc69603",
   "metadata": {},
   "outputs": [
    {
     "name": "stdout",
     "output_type": "stream",
     "text": [
      "Exactitud:  0.6181818181818182\n",
      "Precisión:  0.20606060606060606\n",
      "Sensibilidad:  0.3333333333333333\n",
      "F1-score:  0.2546816479400749\n",
      "[[34  0  0]\n",
      " [15  0  0]\n",
      " [ 6  0  0]]\n"
     ]
    },
    {
     "name": "stderr",
     "output_type": "stream",
     "text": [
      "C:\\Users\\david\\anaconda3\\lib\\site-packages\\sklearn\\metrics\\_classification.py:1308: UndefinedMetricWarning: Precision is ill-defined and being set to 0.0 in labels with no predicted samples. Use `zero_division` parameter to control this behavior.\n",
      "  _warn_prf(average, modifier, msg_start, len(result))\n"
     ]
    },
    {
     "data": {
      "text/plain": [
       "<sklearn.metrics._plot.confusion_matrix.ConfusionMatrixDisplay at 0x1ca497802e0>"
      ]
     },
     "execution_count": 75,
     "metadata": {},
     "output_type": "execute_result"
    },
    {
     "data": {
      "image/png": "[encoded data removed]",
      "text/plain": [
       "<Figure size 432x288 with 2 Axes>"
      ]
     },
     "metadata": {},
     "output_type": "display_data"
    }
   ],
   "source": [
    "print(\"Exactitud: \" , accuracy_score(y_test,yhat))\n",
    "print(\"Precisión: \", precision_score(y_test,yhat, average=\"macro\"))\n",
    "print(\"Sensibilidad: \", recall_score(y_test,yhat, average=\"macro\"))\n",
    "print(\"F1-score: \", f1_score(y_test,yhat, average=\"macro\"))\n",
    "cm = confusion_matrix(y_test,yhat)\n",
    "print(cm)\n",
    "disp = ConfusionMatrixDisplay(confusion_matrix=cm,display_labels=clf.classes_)\n",
    "disp.plot()"
   ]
  },
  {
   "cell_type": "code",
   "execution_count": null,
   "id": "5e98b517-e35a-4038-b0ec-e269c56a3a98",
   "metadata": {},
   "outputs": [],
   "source": []
  },
  {
   "cell_type": "code",
   "execution_count": null,
   "id": "a510adab-95e9-4094-96b4-9c82c7a1365e",
   "metadata": {},
   "outputs": [],
   "source": []
  }
 ],
 "metadata": {
  "kernelspec": {
   "display_name": "Python 3",
   "language": "python",
   "name": "python3"
  },
  "language_info": {
   "codemirror_mode": {
    "name": "ipython",
    "version": 3
   },
   "file_extension": ".py",
   "mimetype": "text/x-python",
   "name": "python",
   "nbconvert_exporter": "python",
   "pygments_lexer": "ipython3",
   "version": "3.8.8"
  }
 },
 "nbformat": 4,
 "nbformat_minor": 5
}
